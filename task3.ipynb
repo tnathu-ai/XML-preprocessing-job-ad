{
 "cells": [
  {
   "cell_type": "markdown",
   "metadata": {
    "pycharm": {
     "name": "#%% md\n"
    }
   },
   "source": [
    "# Task 3\n",
    "<h3 style=\"color:#ffc0cb;font-size:50px;font-family:Georgia;text-align:center;\"><strong>Data Parsing, Cleansing and Integration</strong></h3>\n",
    "\n",
    "Version: 1.0\n",
    "\n",
    "Environment: Python 3 and Jupyter notebook\n",
    "\n",
    "Libraries used: please include the main libraries you used in your assignment, e.g.,:\n",
    "* pandas\n",
    "* re\n",
    "* numpy\n",
    "* seaborn\n",
    "* matplotlib\n",
    "\n",
    "| **COLUMN**   | **DESCRIPTION**                                               |\n",
    "|--------------|---------------------------------------------------------------|\n",
    "| Id           | 8 digit Id of the job advertisement                           |\n",
    "| Title        | Title of the advertised job position                          |\n",
    "| Location     | Location of the advertised job position                       |\n",
    "| Company      | Company (employer) of the advertised job position             |\n",
    "| ContractType | The contract type of the advertised job position              |\n",
    "| ContractTime | The contract time of the advertised job position              |\n",
    "| Category     | The category of the advertised job position                   |\n",
    "| Salary       | Annual salary of the advertised job position                  |\n",
    "| OpenDate     | The opening time for the job application                      |\n",
    "| CloseDate    | The closing time for applying for the advertised job position |\n",
    "| SourceName   | The website where the job position is advertised              |\n",
    "\n",
    "\n",
    "\n",
    "## Introduction\n",
    "\n",
    "The dataset combines jobs, and related information on those positions gathered from various job-hunting websites. Data pre-processing analysis on job advertisements is becoming more crucial and advantageous for job-search websites since it allows for enhancements to the user experience of searching.\n",
    "I will discover and resolve problems in data integration and manage a sizable collection of records related to job advertisements that are kept in XML format and have unknown data quality concerns.\n",
    "\n",
    "## Identify conflict\n",
    "\n",
    "### Schema level conflicts:\n",
    "+ Typos and spelling mistakes\n",
    "+ Irregularities, e.g., abnormal data values and data formats\n",
    "+ Violations of the Integrity constraint.\n",
    "+ Outliers\n",
    "+ Duplications\n",
    "+ Missing values\n",
    "+ Inconsistency, e.g., inhomogeneity in values and types in representing the same data\n",
    "\n",
    "### Data level conflicts:\n",
    "+ Duplications"
   ]
  },
  {
   "cell_type": "markdown",
   "metadata": {
    "pycharm": {
     "name": "#%% md\n"
    }
   },
   "source": [
    "##  Import libraries "
   ]
  },
  {
   "cell_type": "code",
   "execution_count": 1,
   "metadata": {
    "pycharm": {
     "name": "#%%\n"
    },
    "tags": []
   },
   "outputs": [],
   "source": [
    "import pandas as pd\n",
    "import numpy as np\n",
    "\n",
    "# Modules for data visualization\n",
    "pd.options.mode.chained_assignment = None"
   ]
  },
  {
   "cell_type": "markdown",
   "metadata": {
    "pycharm": {
     "name": "#%% md\n"
    }
   },
   "source": [
    "dataset2.csv"
   ]
  },
  {
   "cell_type": "code",
   "execution_count": 2,
   "metadata": {
    "pycharm": {
     "name": "#%%\n"
    }
   },
   "outputs": [
    {
     "data": {
      "text/plain": "    Location                                          Job Title  \\\n0  Berkshire                                        Lead CRA UK   \n1    Bristol                                 Possession Manager   \n2   Coventry  NVQ Assessor Banking/Financial Services Salary...   \n\n   Monthly Payment              Closing     Category       Type  \\\n0          4583.33  2012-03-08 12:00:00       Health        NaN   \n1          2812.50  2013-09-06 12:00:00  Engineering  Permanent   \n2          1791.67  2013-05-02 00:00:00  Hospitality  Permanent   \n\n               Opening      Organisation  Full-Time Equivalent (FTE)  \n0  2012-01-08 12:00:00   SEC Recruitment                         1.0  \n1  2013-08-07 12:00:00  Navartis Limited                         1.0  \n2  2013-02-01 00:00:00          Pertemps                         1.0  ",
      "text/html": "<div>\n<style scoped>\n    .dataframe tbody tr th:only-of-type {\n        vertical-align: middle;\n    }\n\n    .dataframe tbody tr th {\n        vertical-align: top;\n    }\n\n    .dataframe thead th {\n        text-align: right;\n    }\n</style>\n<table border=\"1\" class=\"dataframe\">\n  <thead>\n    <tr style=\"text-align: right;\">\n      <th></th>\n      <th>Location</th>\n      <th>Job Title</th>\n      <th>Monthly Payment</th>\n      <th>Closing</th>\n      <th>Category</th>\n      <th>Type</th>\n      <th>Opening</th>\n      <th>Organisation</th>\n      <th>Full-Time Equivalent (FTE)</th>\n    </tr>\n  </thead>\n  <tbody>\n    <tr>\n      <th>0</th>\n      <td>Berkshire</td>\n      <td>Lead CRA UK</td>\n      <td>4583.33</td>\n      <td>2012-03-08 12:00:00</td>\n      <td>Health</td>\n      <td>NaN</td>\n      <td>2012-01-08 12:00:00</td>\n      <td>SEC Recruitment</td>\n      <td>1.0</td>\n    </tr>\n    <tr>\n      <th>1</th>\n      <td>Bristol</td>\n      <td>Possession Manager</td>\n      <td>2812.50</td>\n      <td>2013-09-06 12:00:00</td>\n      <td>Engineering</td>\n      <td>Permanent</td>\n      <td>2013-08-07 12:00:00</td>\n      <td>Navartis Limited</td>\n      <td>1.0</td>\n    </tr>\n    <tr>\n      <th>2</th>\n      <td>Coventry</td>\n      <td>NVQ Assessor Banking/Financial Services Salary...</td>\n      <td>1791.67</td>\n      <td>2013-05-02 00:00:00</td>\n      <td>Hospitality</td>\n      <td>Permanent</td>\n      <td>2013-02-01 00:00:00</td>\n      <td>Pertemps</td>\n      <td>1.0</td>\n    </tr>\n  </tbody>\n</table>\n</div>"
     },
     "execution_count": 2,
     "metadata": {},
     "output_type": "execute_result"
    }
   ],
   "source": [
    "# Code to inspect the provided data file\n",
    "df2 = pd.read_csv('dataset2.csv')\n",
    "\n",
    "df2.head(3)"
   ]
  },
  {
   "cell_type": "code",
   "execution_count": 3,
   "metadata": {
    "pycharm": {
     "name": "#%%\n"
    }
   },
   "outputs": [
    {
     "name": "stdout",
     "output_type": "stream",
     "text": [
      "<class 'pandas.core.frame.DataFrame'>\n",
      "RangeIndex: 5000 entries, 0 to 4999\n",
      "Data columns (total 11 columns):\n",
      " #   Column                      Non-Null Count  Dtype  \n",
      "---  ------                      --------------  -----  \n",
      " 0   Id                          5000 non-null   int64  \n",
      " 1   Location                    5000 non-null   object \n",
      " 2   Job Title                   5000 non-null   object \n",
      " 3   Monthly Payment             5000 non-null   float64\n",
      " 4   Closing                     5000 non-null   object \n",
      " 5   Category                    5000 non-null   object \n",
      " 6   Type                        3593 non-null   object \n",
      " 7   Opening                     5000 non-null   object \n",
      " 8   Organisation                4531 non-null   object \n",
      " 9   Full-Time Equivalent (FTE)  5000 non-null   float64\n",
      " 10  SourceName                  5000 non-null   object \n",
      "dtypes: float64(2), int64(1), object(8)\n",
      "memory usage: 429.8+ KB\n",
      "None\n"
     ]
    },
    {
     "data": {
      "text/plain": "   Id   Location                                          Job Title  \\\n0   1  Berkshire                                        Lead CRA UK   \n1   2    Bristol                                 Possession Manager   \n2   3   Coventry  NVQ Assessor Banking/Financial Services Salary...   \n\n   Monthly Payment              Closing     Category       Type  \\\n0          4583.33  2012-03-08 12:00:00       Health        NaN   \n1          2812.50  2013-09-06 12:00:00  Engineering  Permanent   \n2          1791.67  2013-05-02 00:00:00  Hospitality  Permanent   \n\n               Opening      Organisation  Full-Time Equivalent (FTE)  \\\n0  2012-01-08 12:00:00   SEC Recruitment                         1.0   \n1  2013-08-07 12:00:00  Navartis Limited                         1.0   \n2  2013-02-01 00:00:00          Pertemps                         1.0   \n\n               SourceName  \n0  www.jobhuntlisting.com  \n1  www.jobhuntlisting.com  \n2  www.jobhuntlisting.com  ",
      "text/html": "<div>\n<style scoped>\n    .dataframe tbody tr th:only-of-type {\n        vertical-align: middle;\n    }\n\n    .dataframe tbody tr th {\n        vertical-align: top;\n    }\n\n    .dataframe thead th {\n        text-align: right;\n    }\n</style>\n<table border=\"1\" class=\"dataframe\">\n  <thead>\n    <tr style=\"text-align: right;\">\n      <th></th>\n      <th>Id</th>\n      <th>Location</th>\n      <th>Job Title</th>\n      <th>Monthly Payment</th>\n      <th>Closing</th>\n      <th>Category</th>\n      <th>Type</th>\n      <th>Opening</th>\n      <th>Organisation</th>\n      <th>Full-Time Equivalent (FTE)</th>\n      <th>SourceName</th>\n    </tr>\n  </thead>\n  <tbody>\n    <tr>\n      <th>0</th>\n      <td>1</td>\n      <td>Berkshire</td>\n      <td>Lead CRA UK</td>\n      <td>4583.33</td>\n      <td>2012-03-08 12:00:00</td>\n      <td>Health</td>\n      <td>NaN</td>\n      <td>2012-01-08 12:00:00</td>\n      <td>SEC Recruitment</td>\n      <td>1.0</td>\n      <td>www.jobhuntlisting.com</td>\n    </tr>\n    <tr>\n      <th>1</th>\n      <td>2</td>\n      <td>Bristol</td>\n      <td>Possession Manager</td>\n      <td>2812.50</td>\n      <td>2013-09-06 12:00:00</td>\n      <td>Engineering</td>\n      <td>Permanent</td>\n      <td>2013-08-07 12:00:00</td>\n      <td>Navartis Limited</td>\n      <td>1.0</td>\n      <td>www.jobhuntlisting.com</td>\n    </tr>\n    <tr>\n      <th>2</th>\n      <td>3</td>\n      <td>Coventry</td>\n      <td>NVQ Assessor Banking/Financial Services Salary...</td>\n      <td>1791.67</td>\n      <td>2013-05-02 00:00:00</td>\n      <td>Hospitality</td>\n      <td>Permanent</td>\n      <td>2013-02-01 00:00:00</td>\n      <td>Pertemps</td>\n      <td>1.0</td>\n      <td>www.jobhuntlisting.com</td>\n    </tr>\n  </tbody>\n</table>\n</div>"
     },
     "execution_count": 3,
     "metadata": {},
     "output_type": "execute_result"
    }
   ],
   "source": [
    "# add a new column SourceName since all record came from the same source\n",
    "df2['SourceName'] = 'www.jobhuntlisting.com'\n",
    "\n",
    "# add column Id to generate unique id for each row\n",
    "df2['Id'] = df2.index + 1\n",
    "\n",
    "df2 = df2[['Id','Location', 'Job Title', 'Monthly Payment', 'Closing', 'Category',\n",
    "       'Type', 'Opening', 'Organisation', 'Full-Time Equivalent (FTE)',\n",
    "       'SourceName']]\n",
    "\n",
    "# overview of the dataset\n",
    "print(df2.info())\n",
    "df2.head(3)"
   ]
  },
  {
   "cell_type": "code",
   "execution_count": 4,
   "metadata": {
    "pycharm": {
     "name": "#%%\n"
    }
   },
   "outputs": [
    {
     "name": "stdout",
     "output_type": "stream",
     "text": [
      "<class 'pandas.core.frame.DataFrame'>\n",
      "RangeIndex: 50751 entries, 0 to 50750\n",
      "Data columns (total 11 columns):\n",
      " #   Column        Non-Null Count  Dtype  \n",
      "---  ------        --------------  -----  \n",
      " 0   Id            50751 non-null  int64  \n",
      " 1   Title         50751 non-null  object \n",
      " 2   Location      50751 non-null  object \n",
      " 3   Company       50043 non-null  object \n",
      " 4   ContractType  50751 non-null  object \n",
      " 5   ContractTime  50751 non-null  object \n",
      " 6   Category      50751 non-null  object \n",
      " 7   OpenDate      50751 non-null  object \n",
      " 8   CloseDate     50751 non-null  object \n",
      " 9   SourceName    50751 non-null  object \n",
      " 10  Salary        50751 non-null  float64\n",
      "dtypes: float64(1), int64(1), object(9)\n",
      "memory usage: 4.3+ MB\n",
      "None\n"
     ]
    },
    {
     "data": {
      "text/plain": "             Id                                              Title Location  \\\n50707  68445079  coventure graduate role – investment managemen...       uk   \n46386  69568540  allied health care professional : mobile optom...     kent   \n27256  70601253                      counselling concepts lecturer    crewe   \n\n             Company   ContractType   ContractTime                   Category  \\\n50707  non-specified  non-specified  non-specified                 sales jobs   \n46386        trident  non-specified  non-specified  healthcare & nursing jobs   \n27256            NaN  non-specified  non-specified              teaching jobs   \n\n                  OpenDate            CloseDate          SourceName   Salary  \n50707  2013-02-12 00:00:00  2013-03-14 00:00:00       wikijob.co.uk  31500.0  \n46386  2013-06-04 12:00:00  2013-07-04 12:00:00  jobs4medical.co.uk  40500.0  \n27256  2013-06-03 15:00:00  2013-09-01 15:00:00      jobcentre plus  42736.0  ",
      "text/html": "<div>\n<style scoped>\n    .dataframe tbody tr th:only-of-type {\n        vertical-align: middle;\n    }\n\n    .dataframe tbody tr th {\n        vertical-align: top;\n    }\n\n    .dataframe thead th {\n        text-align: right;\n    }\n</style>\n<table border=\"1\" class=\"dataframe\">\n  <thead>\n    <tr style=\"text-align: right;\">\n      <th></th>\n      <th>Id</th>\n      <th>Title</th>\n      <th>Location</th>\n      <th>Company</th>\n      <th>ContractType</th>\n      <th>ContractTime</th>\n      <th>Category</th>\n      <th>OpenDate</th>\n      <th>CloseDate</th>\n      <th>SourceName</th>\n      <th>Salary</th>\n    </tr>\n  </thead>\n  <tbody>\n    <tr>\n      <th>50707</th>\n      <td>68445079</td>\n      <td>coventure graduate role – investment managemen...</td>\n      <td>uk</td>\n      <td>non-specified</td>\n      <td>non-specified</td>\n      <td>non-specified</td>\n      <td>sales jobs</td>\n      <td>2013-02-12 00:00:00</td>\n      <td>2013-03-14 00:00:00</td>\n      <td>wikijob.co.uk</td>\n      <td>31500.0</td>\n    </tr>\n    <tr>\n      <th>46386</th>\n      <td>69568540</td>\n      <td>allied health care professional : mobile optom...</td>\n      <td>kent</td>\n      <td>trident</td>\n      <td>non-specified</td>\n      <td>non-specified</td>\n      <td>healthcare &amp; nursing jobs</td>\n      <td>2013-06-04 12:00:00</td>\n      <td>2013-07-04 12:00:00</td>\n      <td>jobs4medical.co.uk</td>\n      <td>40500.0</td>\n    </tr>\n    <tr>\n      <th>27256</th>\n      <td>70601253</td>\n      <td>counselling concepts lecturer</td>\n      <td>crewe</td>\n      <td>NaN</td>\n      <td>non-specified</td>\n      <td>non-specified</td>\n      <td>teaching jobs</td>\n      <td>2013-06-03 15:00:00</td>\n      <td>2013-09-01 15:00:00</td>\n      <td>jobcentre plus</td>\n      <td>42736.0</td>\n    </tr>\n  </tbody>\n</table>\n</div>"
     },
     "execution_count": 4,
     "metadata": {},
     "output_type": "execute_result"
    }
   ],
   "source": [
    "# Code to inspect the provided data file\n",
    "df1 = pd.read_csv('dataset1_solution.csv')\n",
    "\n",
    "# overview of the dataset\n",
    "print(df1.info())\n",
    "df1.sample(3)"
   ]
  },
  {
   "cell_type": "markdown",
   "metadata": {
    "pycharm": {
     "name": "#%% md\n"
    }
   },
   "source": [
    "<h3 style=\"color:#ffc0cb;font-size:50px;font-family:Georgia;text-align:center;\"><strong>2. Resolving schema conflicts</strong></h3>\n",
    "\n",
    "+ Column names\n",
    "+ Typos and spelling mistakes\n",
    "+ Irregularities, e.g., abnormal data values and data formats\n",
    "+ Violations of the Integrity constraint.\n",
    "+ Outliers\n",
    "+ Duplications\n",
    "+ Missing values\n",
    "+ Inconsistency, e.g., inhomogeneity in values and types in representing the same data"
   ]
  },
  {
   "cell_type": "markdown",
   "metadata": {
    "pycharm": {
     "name": "#%% md\n"
    }
   },
   "source": [
    "### Conflict 1: Naming conflict\n",
    "I'll rename the columns for these 2 dataframe all have the same name and meaning"
   ]
  },
  {
   "cell_type": "code",
   "execution_count": 5,
   "metadata": {
    "pycharm": {
     "name": "#%%\n"
    }
   },
   "outputs": [
    {
     "name": "stdout",
     "output_type": "stream",
     "text": [
      "List of column names for the first dataframe df1: ['Id', 'Title', 'Location', 'Company', 'ContractType', 'ContractTime', 'Category', 'OpenDate', 'CloseDate', 'SourceName', 'Salary']\n",
      "\n",
      "List of column names for the second dataframe df2: ['Id', 'Location', 'Job Title', 'Monthly Payment', 'Closing', 'Category', 'Type', 'Opening', 'Organisation', 'Full-Time Equivalent (FTE)', 'SourceName']\n",
      "\n"
     ]
    }
   ],
   "source": [
    "print(f'List of column names for the first dataframe df1: {df1.columns.to_list()}\\n')\n",
    "print(f'List of column names for the second dataframe df2: {df2.columns.to_list()}\\n')"
   ]
  },
  {
   "cell_type": "markdown",
   "metadata": {
    "pycharm": {
     "name": "#%% md\n"
    }
   },
   "source": [
    "### --------> OBSERVATION\n",
    "+ 2 dataframes both have 11 columns\n",
    "+ Same column names for the same column meaning between these datasets: 'Id', 'Location', 'Category', 'SourceName'\n",
    "+ Different names for the same column meaning between these datasets\n",
    "> + 'Title': 'Job Title'\n",
    "> + 'Company': 'Organisation'\n",
    "> + 'ContractType': 'Full-Time Equivalent (FTE)' **note: value besides 1 would be part time job\"**\n",
    "> + 'ContractTime': 'Type'\n",
    "> + 'OpenDate': 'Opening'\n",
    "> + 'CloseDate': 'Closing'\n",
    "> + 'Salary': 'Monthly Payment' **note: df1 is annual salary, df2 is monthly salary**"
   ]
  },
  {
   "cell_type": "code",
   "execution_count": 6,
   "metadata": {
    "pycharm": {
     "name": "#%%\n"
    }
   },
   "outputs": [
    {
     "data": {
      "text/plain": "   Id   Location                                              Title   Salary  \\\n0   1  Berkshire                                        Lead CRA UK  4583.33   \n1   2    Bristol                                 Possession Manager  2812.50   \n2   3   Coventry  NVQ Assessor Banking/Financial Services Salary...  1791.67   \n\n             CloseDate     Category ContractTime             OpenDate  \\\n0  2012-03-08 12:00:00       Health          NaN  2012-01-08 12:00:00   \n1  2013-09-06 12:00:00  Engineering    Permanent  2013-08-07 12:00:00   \n2  2013-05-02 00:00:00  Hospitality    Permanent  2013-02-01 00:00:00   \n\n            Company  ContractType              SourceName  \n0   SEC Recruitment           1.0  www.jobhuntlisting.com  \n1  Navartis Limited           1.0  www.jobhuntlisting.com  \n2          Pertemps           1.0  www.jobhuntlisting.com  ",
      "text/html": "<div>\n<style scoped>\n    .dataframe tbody tr th:only-of-type {\n        vertical-align: middle;\n    }\n\n    .dataframe tbody tr th {\n        vertical-align: top;\n    }\n\n    .dataframe thead th {\n        text-align: right;\n    }\n</style>\n<table border=\"1\" class=\"dataframe\">\n  <thead>\n    <tr style=\"text-align: right;\">\n      <th></th>\n      <th>Id</th>\n      <th>Location</th>\n      <th>Title</th>\n      <th>Salary</th>\n      <th>CloseDate</th>\n      <th>Category</th>\n      <th>ContractTime</th>\n      <th>OpenDate</th>\n      <th>Company</th>\n      <th>ContractType</th>\n      <th>SourceName</th>\n    </tr>\n  </thead>\n  <tbody>\n    <tr>\n      <th>0</th>\n      <td>1</td>\n      <td>Berkshire</td>\n      <td>Lead CRA UK</td>\n      <td>4583.33</td>\n      <td>2012-03-08 12:00:00</td>\n      <td>Health</td>\n      <td>NaN</td>\n      <td>2012-01-08 12:00:00</td>\n      <td>SEC Recruitment</td>\n      <td>1.0</td>\n      <td>www.jobhuntlisting.com</td>\n    </tr>\n    <tr>\n      <th>1</th>\n      <td>2</td>\n      <td>Bristol</td>\n      <td>Possession Manager</td>\n      <td>2812.50</td>\n      <td>2013-09-06 12:00:00</td>\n      <td>Engineering</td>\n      <td>Permanent</td>\n      <td>2013-08-07 12:00:00</td>\n      <td>Navartis Limited</td>\n      <td>1.0</td>\n      <td>www.jobhuntlisting.com</td>\n    </tr>\n    <tr>\n      <th>2</th>\n      <td>3</td>\n      <td>Coventry</td>\n      <td>NVQ Assessor Banking/Financial Services Salary...</td>\n      <td>1791.67</td>\n      <td>2013-05-02 00:00:00</td>\n      <td>Hospitality</td>\n      <td>Permanent</td>\n      <td>2013-02-01 00:00:00</td>\n      <td>Pertemps</td>\n      <td>1.0</td>\n      <td>www.jobhuntlisting.com</td>\n    </tr>\n  </tbody>\n</table>\n</div>"
     },
     "execution_count": 6,
     "metadata": {},
     "output_type": "execute_result"
    }
   ],
   "source": [
    "# Rename columns\n",
    "df2.rename(columns={'Job Title':'Title','Organisation':'Company',\n",
    "                   'Full-Time Equivalent (FTE)':'ContractType','Type':'ContractTime',\n",
    "                   'Opening':'OpenDate','Closing':'CloseDate', 'Monthly Payment':'Salary'},inplace=True)\n",
    "\n",
    "\n",
    "df2.head(3)"
   ]
  },
  {
   "cell_type": "markdown",
   "metadata": {
    "pycharm": {
     "name": "#%% md\n"
    }
   },
   "source": [
    "### Conflict 2: Convert Data type"
   ]
  },
  {
   "cell_type": "code",
   "execution_count": 7,
   "metadata": {
    "pycharm": {
     "name": "#%%\n"
    }
   },
   "outputs": [
    {
     "name": "stdout",
     "output_type": "stream",
     "text": [
      "Number of numeric columns:  3\n",
      "List of numeric columns:  ['Id', 'Salary', 'ContractType'] \n",
      "\n",
      "Number of categorical columns:  6\n",
      "List of string columns:  ['Location', 'Title', 'Category', 'ContractTime', 'Company', 'SourceName'] \n",
      "\n",
      "\n",
      "<class 'pandas.core.frame.DataFrame'>\n",
      "RangeIndex: 5000 entries, 0 to 4999\n",
      "Data columns (total 11 columns):\n",
      " #   Column        Non-Null Count  Dtype         \n",
      "---  ------        --------------  -----         \n",
      " 0   Id            5000 non-null   Int32         \n",
      " 1   Location      5000 non-null   string        \n",
      " 2   Title         5000 non-null   string        \n",
      " 3   Salary        5000 non-null   Float64       \n",
      " 4   CloseDate     5000 non-null   datetime64[ns]\n",
      " 5   Category      5000 non-null   string        \n",
      " 6   ContractTime  3593 non-null   string        \n",
      " 7   OpenDate      5000 non-null   datetime64[ns]\n",
      " 8   Company       4531 non-null   string        \n",
      " 9   ContractType  5000 non-null   Float64       \n",
      " 10  SourceName    5000 non-null   string        \n",
      "dtypes: Float64(2), Int32(1), datetime64[ns](2), string(6)\n",
      "memory usage: 424.9 KB\n"
     ]
    }
   ],
   "source": [
    "def coerce_df_columns_to_best_dtype(df, int32_column_list, float_column_list, datetime_column_list):\n",
    "\n",
    "    # convert to integer dtype \n",
    "    df[int32_column_list] = df[int32_column_list].astype('int32', errors='ignore')\n",
    "    \n",
    "    # convert to float dtype\n",
    "    df[float_column_list] = df[float_column_list].astype('float', errors='ignore').round(2)\n",
    "    \n",
    "    # convert to datetime format yyyy-mm-dd hh:mm:ss\n",
    "    df[datetime_column_list] = df[datetime_column_list].apply(pd.to_datetime, errors='coerce')\n",
    "\n",
    "    # convert object columns to string datatype\n",
    "    df = df.convert_dtypes()\n",
    "\n",
    "    # select numeric columns\n",
    "    df_numeric = df.select_dtypes(include=[np.number]).columns.to_list()\n",
    "\n",
    "    # select non-numeric columns\n",
    "    df_string = df.select_dtypes(include='string').columns.tolist()\n",
    "\n",
    "    # print out the name and number of numeric column\n",
    "    print(\"Number of numeric columns: \", len(df_numeric))\n",
    "    print(\"List of numeric columns: \", df_numeric, \"\\n\")\n",
    "\n",
    "    # print out the name and number of categorical column\n",
    "    print(\"Number of categorical columns: \", len(df_string))\n",
    "    print(\"List of string columns: \", df_string, \"\\n\\n\")\n",
    "\n",
    "    # return datatype for each column after coercing\n",
    "    return df.info()\n",
    "\n",
    "# apply the coerce_df_columns_to_best_dtype function to the dataframe\n",
    "coerce_df_columns_to_best_dtype(df2, 'Id', 'Salary', ['OpenDate', 'CloseDate'])"
   ]
  },
  {
   "cell_type": "markdown",
   "metadata": {
    "pycharm": {
     "name": "#%% md\n"
    }
   },
   "source": [
    "### Conflict 3: Salary from monthly to annually "
   ]
  },
  {
   "cell_type": "code",
   "execution_count": 8,
   "metadata": {
    "pycharm": {
     "name": "#%%\n"
    }
   },
   "outputs": [
    {
     "data": {
      "text/plain": "               count     mean      std    min      25%      50%      75%  \\\nId            5000.0  2500.50  1443.52    1.0  1250.75  2500.50  3750.25   \nSalary        5000.0  2854.15  1310.43  424.0  1916.67  2583.33  3541.67   \nContractType  5000.0     0.99     0.09    0.2     1.00     1.00     1.00   \n\n                 max  \nId            5000.0  \nSalary        8000.0  \nContractType     1.0  ",
      "text/html": "<div>\n<style scoped>\n    .dataframe tbody tr th:only-of-type {\n        vertical-align: middle;\n    }\n\n    .dataframe tbody tr th {\n        vertical-align: top;\n    }\n\n    .dataframe thead th {\n        text-align: right;\n    }\n</style>\n<table border=\"1\" class=\"dataframe\">\n  <thead>\n    <tr style=\"text-align: right;\">\n      <th></th>\n      <th>count</th>\n      <th>mean</th>\n      <th>std</th>\n      <th>min</th>\n      <th>25%</th>\n      <th>50%</th>\n      <th>75%</th>\n      <th>max</th>\n    </tr>\n  </thead>\n  <tbody>\n    <tr>\n      <th>Id</th>\n      <td>5000.0</td>\n      <td>2500.50</td>\n      <td>1443.52</td>\n      <td>1.0</td>\n      <td>1250.75</td>\n      <td>2500.50</td>\n      <td>3750.25</td>\n      <td>5000.0</td>\n    </tr>\n    <tr>\n      <th>Salary</th>\n      <td>5000.0</td>\n      <td>2854.15</td>\n      <td>1310.43</td>\n      <td>424.0</td>\n      <td>1916.67</td>\n      <td>2583.33</td>\n      <td>3541.67</td>\n      <td>8000.0</td>\n    </tr>\n    <tr>\n      <th>ContractType</th>\n      <td>5000.0</td>\n      <td>0.99</td>\n      <td>0.09</td>\n      <td>0.2</td>\n      <td>1.00</td>\n      <td>1.00</td>\n      <td>1.00</td>\n      <td>1.0</td>\n    </tr>\n  </tbody>\n</table>\n</div>"
     },
     "execution_count": 8,
     "metadata": {},
     "output_type": "execute_result"
    }
   ],
   "source": [
    "df2.describe().T.round(2)"
   ]
  },
  {
   "cell_type": "code",
   "execution_count": 9,
   "metadata": {
    "pycharm": {
     "name": "#%%\n"
    }
   },
   "outputs": [
    {
     "data": {
      "text/plain": "          count         mean         std         min         25%         50%  \\\nId      50751.0  68847007.68  4238794.44  12612628.0  68347141.5  69214702.0   \nSalary  50751.0     34331.12    15521.12      5000.0     23500.0     31500.0   \n\n               75%         max  \nId      71268853.0  72705203.0  \nSalary     42000.0    116951.0  ",
      "text/html": "<div>\n<style scoped>\n    .dataframe tbody tr th:only-of-type {\n        vertical-align: middle;\n    }\n\n    .dataframe tbody tr th {\n        vertical-align: top;\n    }\n\n    .dataframe thead th {\n        text-align: right;\n    }\n</style>\n<table border=\"1\" class=\"dataframe\">\n  <thead>\n    <tr style=\"text-align: right;\">\n      <th></th>\n      <th>count</th>\n      <th>mean</th>\n      <th>std</th>\n      <th>min</th>\n      <th>25%</th>\n      <th>50%</th>\n      <th>75%</th>\n      <th>max</th>\n    </tr>\n  </thead>\n  <tbody>\n    <tr>\n      <th>Id</th>\n      <td>50751.0</td>\n      <td>68847007.68</td>\n      <td>4238794.44</td>\n      <td>12612628.0</td>\n      <td>68347141.5</td>\n      <td>69214702.0</td>\n      <td>71268853.0</td>\n      <td>72705203.0</td>\n    </tr>\n    <tr>\n      <th>Salary</th>\n      <td>50751.0</td>\n      <td>34331.12</td>\n      <td>15521.12</td>\n      <td>5000.0</td>\n      <td>23500.0</td>\n      <td>31500.0</td>\n      <td>42000.0</td>\n      <td>116951.0</td>\n    </tr>\n  </tbody>\n</table>\n</div>"
     },
     "execution_count": 9,
     "metadata": {},
     "output_type": "execute_result"
    }
   ],
   "source": [
    "df1.describe().T.round(2)"
   ]
  },
  {
   "cell_type": "code",
   "execution_count": 10,
   "metadata": {
    "pycharm": {
     "name": "#%%\n"
    }
   },
   "outputs": [
    {
     "data": {
      "text/plain": "               count      mean       std     min       25%       50%  \\\nId            5000.0   2500.50   1443.52     1.0   1250.75   2500.50   \nSalary        5000.0  34249.78  15725.22  5088.0  23000.04  30999.96   \nContractType  5000.0      0.99      0.09     0.2      1.00      1.00   \n\n                   75%      max  \nId             3750.25   5000.0  \nSalary        42500.04  96000.0  \nContractType      1.00      1.0  ",
      "text/html": "<div>\n<style scoped>\n    .dataframe tbody tr th:only-of-type {\n        vertical-align: middle;\n    }\n\n    .dataframe tbody tr th {\n        vertical-align: top;\n    }\n\n    .dataframe thead th {\n        text-align: right;\n    }\n</style>\n<table border=\"1\" class=\"dataframe\">\n  <thead>\n    <tr style=\"text-align: right;\">\n      <th></th>\n      <th>count</th>\n      <th>mean</th>\n      <th>std</th>\n      <th>min</th>\n      <th>25%</th>\n      <th>50%</th>\n      <th>75%</th>\n      <th>max</th>\n    </tr>\n  </thead>\n  <tbody>\n    <tr>\n      <th>Id</th>\n      <td>5000.0</td>\n      <td>2500.50</td>\n      <td>1443.52</td>\n      <td>1.0</td>\n      <td>1250.75</td>\n      <td>2500.50</td>\n      <td>3750.25</td>\n      <td>5000.0</td>\n    </tr>\n    <tr>\n      <th>Salary</th>\n      <td>5000.0</td>\n      <td>34249.78</td>\n      <td>15725.22</td>\n      <td>5088.0</td>\n      <td>23000.04</td>\n      <td>30999.96</td>\n      <td>42500.04</td>\n      <td>96000.0</td>\n    </tr>\n    <tr>\n      <th>ContractType</th>\n      <td>5000.0</td>\n      <td>0.99</td>\n      <td>0.09</td>\n      <td>0.2</td>\n      <td>1.00</td>\n      <td>1.00</td>\n      <td>1.00</td>\n      <td>1.0</td>\n    </tr>\n  </tbody>\n</table>\n</div>"
     },
     "execution_count": 10,
     "metadata": {},
     "output_type": "execute_result"
    }
   ],
   "source": [
    "# covert monthly to anual salary\n",
    "df2['Salary'] = df2['Salary'].apply(lambda x: x*12)\n",
    "df2.describe().T.round(2)"
   ]
  },
  {
   "cell_type": "markdown",
   "metadata": {
    "pycharm": {
     "name": "#%% md\n"
    },
    "tags": []
   },
   "source": [
    "### Conflict 4: Misspelling and inconsistency "
   ]
  },
  {
   "cell_type": "code",
   "execution_count": 11,
   "metadata": {
    "pycharm": {
     "name": "#%%\n"
    }
   },
   "outputs": [],
   "source": [
    "# select non-numeric columns\n",
    "df2_string = df2.select_dtypes(include='string').columns.tolist()\n",
    "    \n",
    "# convert all string to lowercase and strip trailing and leading spaces\n",
    "df2 = df2.convert_dtypes().applymap(lambda s: s.lower().strip() if type(s) == str else s)  "
   ]
  },
  {
   "cell_type": "code",
   "execution_count": 12,
   "metadata": {
    "pycharm": {
     "name": "#%%\n"
    }
   },
   "outputs": [
    {
     "name": "stdout",
     "output_type": "stream",
     "text": [
      "NUMBER OF CATEGORIES ContractType of df1: 3; \n",
      "\n",
      "UNIQUE NAMES OF THE CATEGORIES ['non-specified' 'part_time' 'full_time']\n",
      "\n",
      "\n",
      "\n"
     ]
    }
   ],
   "source": [
    "print(f'NUMBER OF CATEGORIES ContractType of df1: {df1.ContractType.nunique()}; \\n\\nUNIQUE NAMES OF THE CATEGORIES {df1.ContractType.unique()}\\n\\n\\n')"
   ]
  },
  {
   "cell_type": "code",
   "execution_count": 13,
   "metadata": {
    "pycharm": {
     "name": "#%%\n"
    }
   },
   "outputs": [
    {
     "name": "stdout",
     "output_type": "stream",
     "text": [
      "NUMBER OF CATEGORIES ContractType of df2: 5; \n",
      "\n",
      "UNIQUE NAMES OF THE CATEGORIES [1.  0.4 0.8 0.2 0.6]\n",
      "\n",
      "\n",
      "\n"
     ]
    }
   ],
   "source": [
    "print(f'NUMBER OF CATEGORIES ContractType of df2: {df2.ContractType.nunique()}; \\n\\nUNIQUE NAMES OF THE CATEGORIES {df2.ContractType.unique()}\\n\\n\\n')"
   ]
  },
  {
   "cell_type": "code",
   "execution_count": 14,
   "metadata": {
    "pycharm": {
     "name": "#%%\n"
    }
   },
   "outputs": [
    {
     "name": "stdout",
     "output_type": "stream",
     "text": [
      "NUMBER OF CATEGORIES: 2; \n",
      "\n",
      "UNIQUE NAMES OF THE CATEGORIES ['full_time' 'part_time']\n",
      "\n",
      "\n",
      "\n"
     ]
    }
   ],
   "source": [
    "# loop through ContractType column. 1 is full time, anything else is part time \n",
    "for i in range(len(df2['ContractType'])):\n",
    "    if df2['ContractType'][i] == 1:\n",
    "        df2['ContractType'][i] = 'full_time'\n",
    "    else:\n",
    "        df2['ContractType'][i] = 'part_time'\n",
    "        \n",
    "print(f'NUMBER OF CATEGORIES: {df2.ContractType.nunique()}; \\n\\nUNIQUE NAMES OF THE CATEGORIES {df2.ContractType.unique()}\\n\\n\\n')"
   ]
  },
  {
   "cell_type": "code",
   "execution_count": 15,
   "metadata": {
    "pycharm": {
     "name": "#%%\n"
    }
   },
   "outputs": [
    {
     "name": "stdout",
     "output_type": "stream",
     "text": [
      "NUMBER OF CATEGORIES ContractTime of df2: 2; \n",
      "\n",
      "UNIQUE NAMES OF THE CATEGORIES [<NA> 'permanent' 'fixed term contract']\n",
      "\n",
      "\n",
      "\n"
     ]
    }
   ],
   "source": [
    "print(f'NUMBER OF CATEGORIES ContractTime of df2: {df2.ContractTime.nunique()}; \\n\\nUNIQUE NAMES OF THE CATEGORIES {df2.ContractTime.unique()}\\n\\n\\n')"
   ]
  },
  {
   "cell_type": "code",
   "execution_count": 16,
   "metadata": {
    "pycharm": {
     "name": "#%%\n"
    }
   },
   "outputs": [
    {
     "name": "stdout",
     "output_type": "stream",
     "text": [
      "NUMBER OF CATEGORIES ContractTime of df1: 3; \n",
      "\n",
      "UNIQUE NAMES OF THE CATEGORIES ['non-specified' 'permanent' 'contract']\n",
      "\n",
      "\n",
      "\n"
     ]
    }
   ],
   "source": [
    "print(f'NUMBER OF CATEGORIES ContractTime of df1: {df1.ContractTime.nunique()}; \\n\\nUNIQUE NAMES OF THE CATEGORIES {df1.ContractTime.unique()}\\n\\n\\n')"
   ]
  },
  {
   "cell_type": "code",
   "execution_count": 17,
   "metadata": {
    "pycharm": {
     "name": "#%%\n"
    }
   },
   "outputs": [
    {
     "name": "stdout",
     "output_type": "stream",
     "text": [
      "NUMBER OF CATEGORIES: 2; \n",
      "\n",
      "UNIQUE NAMES OF THE CATEGORIES [<NA> 'permanent' 'contract']\n",
      "\n",
      "\n",
      "\n"
     ]
    }
   ],
   "source": [
    "df2.loc[df2['ContractTime'] == 'fixed term contract', \"ContractTime\"] = \"contract\" # replacing all '-' with 'non-specified'\n",
    "\n",
    "# double check\n",
    "print(f'NUMBER OF CATEGORIES: {df2.ContractTime.nunique()}; \\n\\nUNIQUE NAMES OF THE CATEGORIES {df2.ContractTime.unique()}\\n\\n\\n')"
   ]
  },
  {
   "cell_type": "markdown",
   "metadata": {
    "pycharm": {
     "name": "#%% md\n"
    }
   },
   "source": [
    "### Conflict 5: Identify and Impute null values"
   ]
  },
  {
   "cell_type": "code",
   "execution_count": 18,
   "metadata": {
    "pycharm": {
     "name": "#%%\n"
    }
   },
   "outputs": [],
   "source": [
    "# fill the missing value for some columns by 'non-specified'\n",
    "missing_categorical_columns = ['Title', 'Location', 'Company', 'ContractType', 'ContractTime', 'SourceName']\n",
    "\n",
    "# loop through missing categorical columns and impute with 'non-specified' and update error list\n",
    "for col in missing_categorical_columns:\n",
    "    df1[col].fillna('non-specified', inplace=True)\n",
    "    df2[col].fillna('non-specified', inplace=True)"
   ]
  },
  {
   "cell_type": "code",
   "execution_count": 19,
   "metadata": {
    "pycharm": {
     "name": "#%%\n"
    }
   },
   "outputs": [],
   "source": [
    "def missing_percentage(df):\n",
    "    \"\"\"This function takes a DataFrame(df) as input and returns two columns, total missing values and total missing values percentage\"\"\"\n",
    "    total = df.isnull().sum().sort_values(ascending=False)[df.isnull().sum().sort_values(ascending=False) != 0]\n",
    "    percent = round(df.isnull().sum().sort_values(ascending=False) / len(df) * 100, 2)[\n",
    "        round(df.isnull().sum().sort_values(ascending=False) / len(df) * 100, 2) != 0]\n",
    "    return pd.concat([total, percent], axis=1, keys=['Total', 'Percent'])"
   ]
  },
  {
   "cell_type": "code",
   "execution_count": 20,
   "metadata": {
    "pycharm": {
     "name": "#%%\n"
    }
   },
   "outputs": [
    {
     "name": "stdout",
     "output_type": "stream",
     "text": [
      "Missing values in the dataframe 1 in descending: \n",
      " Empty DataFrame\n",
      "Columns: [Total, Percent]\n",
      "Index: []\n"
     ]
    }
   ],
   "source": [
    "# display missing values in descending\n",
    "print(\"Missing values in the dataframe 1 in descending: \\n\", missing_percentage(df1).sort_values(by='Total', ascending=False))"
   ]
  },
  {
   "cell_type": "code",
   "execution_count": 21,
   "metadata": {
    "pycharm": {
     "name": "#%%\n"
    }
   },
   "outputs": [
    {
     "name": "stdout",
     "output_type": "stream",
     "text": [
      "Missing values in the dataframe 2 in descending: \n",
      " Empty DataFrame\n",
      "Columns: [Total, Percent]\n",
      "Index: []\n"
     ]
    }
   ],
   "source": [
    "# display missing values in descending\n",
    "print(\"Missing values in the dataframe 2 in descending: \\n\", missing_percentage(df2).sort_values(by='Total', ascending=False))"
   ]
  },
  {
   "cell_type": "markdown",
   "metadata": {
    "pycharm": {
     "name": "#%% md\n"
    }
   },
   "source": [
    "### Conflict 6: Adapt datatypes across schemas df1 and df2\n",
    "We've completed all the mapping from df1 and df2 to the global schema. Now,we make all the datatypes consistent between df1 and df2 for data merging."
   ]
  },
  {
   "cell_type": "code",
   "execution_count": 22,
   "metadata": {
    "pycharm": {
     "name": "#%%\n"
    }
   },
   "outputs": [
    {
     "name": "stdout",
     "output_type": "stream",
     "text": [
      "<class 'pandas.core.frame.DataFrame'>\n",
      "RangeIndex: 50751 entries, 0 to 50750\n",
      "Data columns (total 11 columns):\n",
      " #   Column        Non-Null Count  Dtype  \n",
      "---  ------        --------------  -----  \n",
      " 0   Id            50751 non-null  int64  \n",
      " 1   Title         50751 non-null  object \n",
      " 2   Location      50751 non-null  object \n",
      " 3   Company       50751 non-null  object \n",
      " 4   ContractType  50751 non-null  object \n",
      " 5   ContractTime  50751 non-null  object \n",
      " 6   Category      50751 non-null  object \n",
      " 7   OpenDate      50751 non-null  object \n",
      " 8   CloseDate     50751 non-null  object \n",
      " 9   SourceName    50751 non-null  object \n",
      " 10  Salary        50751 non-null  float64\n",
      "dtypes: float64(1), int64(1), object(9)\n",
      "memory usage: 4.3+ MB\n",
      "None\n",
      "<class 'pandas.core.frame.DataFrame'>\n",
      "RangeIndex: 5000 entries, 0 to 4999\n",
      "Data columns (total 11 columns):\n",
      " #   Column        Non-Null Count  Dtype         \n",
      "---  ------        --------------  -----         \n",
      " 0   Id            5000 non-null   int64         \n",
      " 1   Location      5000 non-null   object        \n",
      " 2   Title         5000 non-null   object        \n",
      " 3   Salary        5000 non-null   float64       \n",
      " 4   CloseDate     5000 non-null   datetime64[ns]\n",
      " 5   Category      5000 non-null   object        \n",
      " 6   ContractTime  5000 non-null   object        \n",
      " 7   OpenDate      5000 non-null   datetime64[ns]\n",
      " 8   Company       5000 non-null   object        \n",
      " 9   ContractType  5000 non-null   object        \n",
      " 10  SourceName    5000 non-null   object        \n",
      "dtypes: datetime64[ns](2), float64(1), int64(1), object(7)\n",
      "memory usage: 429.8+ KB\n",
      "None\n"
     ]
    }
   ],
   "source": [
    "# print out the summary of 2 datasets\n",
    "print(df1.info())\n",
    "print(df2.info())"
   ]
  },
  {
   "cell_type": "code",
   "execution_count": 23,
   "metadata": {
    "pycharm": {
     "name": "#%%\n"
    }
   },
   "outputs": [
    {
     "name": "stdout",
     "output_type": "stream",
     "text": [
      "Column OpenDatein df1: objecttodatetime64[ns]\n",
      "Column CloseDatein df1: objecttodatetime64[ns]\n"
     ]
    }
   ],
   "source": [
    "# now adapt the datatypes in df1 to match df2\n",
    "for y in [c for c in df1.columns if c in df2.columns]: # common columns\n",
    "    if df1[y].dtype != df2[y].dtype:\n",
    "        print (\"Column \" + y + \"in df1: \"+ str(df1[y].dtype) + \"to\" + str(df2[y].dtype))\n",
    "        df1[y] = df1[y].astype(df2[y].dtype) "
   ]
  },
  {
   "cell_type": "markdown",
   "metadata": {
    "pycharm": {
     "name": "#%% md\n"
    }
   },
   "source": [
    "<h3 style=\"color:#ffc0cb;font-size:50px;font-family:Georgia;text-align:center;\"><strong>3. Merging data</strong></h3>"
   ]
  },
  {
   "cell_type": "code",
   "execution_count": 24,
   "metadata": {
    "pycharm": {
     "name": "#%%\n"
    }
   },
   "outputs": [
    {
     "name": "stdout",
     "output_type": "stream",
     "text": [
      "(55751, 11)\n"
     ]
    },
    {
     "data": {
      "text/plain": "             Id                                              Title   Location  \\\n49568  72460358  investor, visitor and skills attraction (ivsa)...   aberdeen   \n48563  71375968                personal lines executive  co antrim     antrim   \n2074       2075              senior business analyst  sc clearable  guildford   \n\n                            Company   ContractType   ContractTime  \\\n49568                     4children  non-specified  non-specified   \n48563  head hunt international ltd.  non-specified      permanent   \n2074                  non-specified      full_time      permanent   \n\n                        Category            OpenDate           CloseDate  \\\n49568  accounting & finance jobs 2013-11-17 00:00:00 2013-12-17 00:00:00   \n48563  accounting & finance jobs 2013-01-14 00:00:00 2013-03-15 00:00:00   \n2074      information technology 2012-01-29 15:00:00 2012-03-29 15:00:00   \n\n                   SourceName    Salary  \n49568      jobsinscotland.com  57500.00  \n48563              nijobs.com  28800.00  \n2074   www.jobhuntlisting.com  36999.96  ",
      "text/html": "<div>\n<style scoped>\n    .dataframe tbody tr th:only-of-type {\n        vertical-align: middle;\n    }\n\n    .dataframe tbody tr th {\n        vertical-align: top;\n    }\n\n    .dataframe thead th {\n        text-align: right;\n    }\n</style>\n<table border=\"1\" class=\"dataframe\">\n  <thead>\n    <tr style=\"text-align: right;\">\n      <th></th>\n      <th>Id</th>\n      <th>Title</th>\n      <th>Location</th>\n      <th>Company</th>\n      <th>ContractType</th>\n      <th>ContractTime</th>\n      <th>Category</th>\n      <th>OpenDate</th>\n      <th>CloseDate</th>\n      <th>SourceName</th>\n      <th>Salary</th>\n    </tr>\n  </thead>\n  <tbody>\n    <tr>\n      <th>49568</th>\n      <td>72460358</td>\n      <td>investor, visitor and skills attraction (ivsa)...</td>\n      <td>aberdeen</td>\n      <td>4children</td>\n      <td>non-specified</td>\n      <td>non-specified</td>\n      <td>accounting &amp; finance jobs</td>\n      <td>2013-11-17 00:00:00</td>\n      <td>2013-12-17 00:00:00</td>\n      <td>jobsinscotland.com</td>\n      <td>57500.00</td>\n    </tr>\n    <tr>\n      <th>48563</th>\n      <td>71375968</td>\n      <td>personal lines executive  co antrim</td>\n      <td>antrim</td>\n      <td>head hunt international ltd.</td>\n      <td>non-specified</td>\n      <td>permanent</td>\n      <td>accounting &amp; finance jobs</td>\n      <td>2013-01-14 00:00:00</td>\n      <td>2013-03-15 00:00:00</td>\n      <td>nijobs.com</td>\n      <td>28800.00</td>\n    </tr>\n    <tr>\n      <th>2074</th>\n      <td>2075</td>\n      <td>senior business analyst  sc clearable</td>\n      <td>guildford</td>\n      <td>non-specified</td>\n      <td>full_time</td>\n      <td>permanent</td>\n      <td>information technology</td>\n      <td>2012-01-29 15:00:00</td>\n      <td>2012-03-29 15:00:00</td>\n      <td>www.jobhuntlisting.com</td>\n      <td>36999.96</td>\n    </tr>\n  </tbody>\n</table>\n</div>"
     },
     "execution_count": 24,
     "metadata": {},
     "output_type": "execute_result"
    }
   ],
   "source": [
    "# Code to merge two data sets\n",
    "df = pd.concat([df1,df2])\n",
    "print (df.shape)\n",
    "df.sample(3)"
   ]
  },
  {
   "cell_type": "markdown",
   "metadata": {
    "pycharm": {
     "name": "#%% md\n"
    }
   },
   "source": [
    "<h3 style=\"color:#ffc0cb;font-size:50px;font-family:Georgia;text-align:center;\"><strong>4. Resolving data conflicts:</strong></h3>"
   ]
  },
  {
   "cell_type": "markdown",
   "metadata": {
    "pycharm": {
     "name": "#%% md\n"
    }
   },
   "source": [
    "### Conflict 1: Check duplications\n",
    "Check dupplication for the rows with all same columns"
   ]
  },
  {
   "cell_type": "code",
   "execution_count": 25,
   "metadata": {
    "pycharm": {
     "name": "#%%\n"
    }
   },
   "outputs": [
    {
     "name": "stdout",
     "output_type": "stream",
     "text": [
      "There are 0 duplicate records found\n"
     ]
    },
    {
     "data": {
      "text/plain": "Empty DataFrame\nColumns: [Id, Title, Location, Company, ContractType, ContractTime, Category, OpenDate, CloseDate, SourceName, Salary]\nIndex: []",
      "text/html": "<div>\n<style scoped>\n    .dataframe tbody tr th:only-of-type {\n        vertical-align: middle;\n    }\n\n    .dataframe tbody tr th {\n        vertical-align: top;\n    }\n\n    .dataframe thead th {\n        text-align: right;\n    }\n</style>\n<table border=\"1\" class=\"dataframe\">\n  <thead>\n    <tr style=\"text-align: right;\">\n      <th></th>\n      <th>Id</th>\n      <th>Title</th>\n      <th>Location</th>\n      <th>Company</th>\n      <th>ContractType</th>\n      <th>ContractTime</th>\n      <th>Category</th>\n      <th>OpenDate</th>\n      <th>CloseDate</th>\n      <th>SourceName</th>\n      <th>Salary</th>\n    </tr>\n  </thead>\n  <tbody>\n  </tbody>\n</table>\n</div>"
     },
     "execution_count": 25,
     "metadata": {},
     "output_type": "execute_result"
    }
   ],
   "source": [
    "### check duplication\n",
    "duplicates = df[df.duplicated(keep=False)] # showing all duplicated records\n",
    "print (\"There are \"+ str(len(duplicates)) + \" duplicate records found\")\n",
    "duplicates.sort_values(by=duplicates.columns.tolist()).head(10)"
   ]
  },
  {
   "cell_type": "markdown",
   "metadata": {
    "pycharm": {
     "name": "#%% md\n"
    }
   },
   "source": [
    "#### Conflict 2: Finding global key for the data\n",
    "\n",
    "+ The global keys for the integrated data are 'Location','Company','ContractType','ContractTime','Category','CloseDate'\n",
    "\n",
    "+ A job position can be posted on different websites and sources. Moreover, the same position can be posted at multiple date and time but closed datetime usually fixed. The same job are different at different location, company, category, contract type, and contract time"
   ]
  },
  {
   "cell_type": "code",
   "execution_count": 26,
   "metadata": {
    "pycharm": {
     "name": "#%%\n"
    }
   },
   "outputs": [
    {
     "name": "stdout",
     "output_type": "stream",
     "text": [
      "There are 38 duplicate records found\n"
     ]
    },
    {
     "data": {
      "text/plain": "             Id                                              Title Location  \\\n40746  67959738           domiciliary care worker jobs bexleyheath   london   \n47651  69266144  account therapy specialist  oncology and infec...   london   \n49062  69502456   team manager  central london  up to ****k  bonus   london   \n50579  72550738  senior internal auditor  global insurance company   london   \n50291  69072514                              pension administrator   london   \n50375  72599332                     management accountant (3 days)   london   \n49789  68070981                           operational audit senior   london   \n50053  71342845                        credit control/sales ledger   london   \n49071  69734378                              support desk operator   london   \n49900  68854695                           purley opticians manager   london   \n\n             Company   ContractType   ContractTime                   Category  \\\n40746              -  non-specified      permanent  healthcare & nursing jobs   \n47651              -  non-specified      permanent  healthcare & nursing jobs   \n49062  non-specified  non-specified  non-specified  accounting & finance jobs   \n50579  non-specified  non-specified  non-specified  accounting & finance jobs   \n50291  non-specified  non-specified  non-specified  accounting & finance jobs   \n50375  non-specified  non-specified  non-specified  accounting & finance jobs   \n49789  non-specified  non-specified  non-specified  accounting & finance jobs   \n50053  non-specified  non-specified  non-specified  accounting & finance jobs   \n49071  non-specified  non-specified  non-specified                    it jobs   \n49900  non-specified  non-specified  non-specified                    it jobs   \n\n                 OpenDate           CloseDate                    SourceName  \\\n40746 2013-10-15 15:00:00 2013-12-14 15:00:00                careworx.co.uk   \n47651 2013-09-15 15:00:00 2013-12-14 15:00:00               emedcareers.com   \n49062 2012-05-18 15:00:00 2012-07-17 15:00:00              londonjobs.co.uk   \n50579 2012-06-17 15:00:00 2012-07-17 15:00:00     onlineinsurancejobs.co.uk   \n50291 2012-10-28 12:00:00 2012-12-27 12:00:00  professionalpensionsjobs.com   \n50375 2012-10-28 12:00:00 2012-12-27 12:00:00             jobsfinancial.com   \n49789 2013-09-20 15:00:00 2013-11-19 15:00:00            careersinaudit.com   \n50053 2013-11-05 15:00:00 2013-11-19 15:00:00              jobsincredit.com   \n49071 2012-09-26 00:00:00 2012-11-25 00:00:00              londonjobs.co.uk   \n49900 2012-08-27 00:00:00 2012-11-25 00:00:00              emptylemon.co.uk   \n\n        Salary  \n40746  25680.0  \n47651  32500.0  \n49062  10000.0  \n50579  33600.0  \n50291  15744.0  \n50375  50000.0  \n49789  31000.0  \n50053  35000.0  \n49071  33600.0  \n49900  15000.0  ",
      "text/html": "<div>\n<style scoped>\n    .dataframe tbody tr th:only-of-type {\n        vertical-align: middle;\n    }\n\n    .dataframe tbody tr th {\n        vertical-align: top;\n    }\n\n    .dataframe thead th {\n        text-align: right;\n    }\n</style>\n<table border=\"1\" class=\"dataframe\">\n  <thead>\n    <tr style=\"text-align: right;\">\n      <th></th>\n      <th>Id</th>\n      <th>Title</th>\n      <th>Location</th>\n      <th>Company</th>\n      <th>ContractType</th>\n      <th>ContractTime</th>\n      <th>Category</th>\n      <th>OpenDate</th>\n      <th>CloseDate</th>\n      <th>SourceName</th>\n      <th>Salary</th>\n    </tr>\n  </thead>\n  <tbody>\n    <tr>\n      <th>40746</th>\n      <td>67959738</td>\n      <td>domiciliary care worker jobs bexleyheath</td>\n      <td>london</td>\n      <td>-</td>\n      <td>non-specified</td>\n      <td>permanent</td>\n      <td>healthcare &amp; nursing jobs</td>\n      <td>2013-10-15 15:00:00</td>\n      <td>2013-12-14 15:00:00</td>\n      <td>careworx.co.uk</td>\n      <td>25680.0</td>\n    </tr>\n    <tr>\n      <th>47651</th>\n      <td>69266144</td>\n      <td>account therapy specialist  oncology and infec...</td>\n      <td>london</td>\n      <td>-</td>\n      <td>non-specified</td>\n      <td>permanent</td>\n      <td>healthcare &amp; nursing jobs</td>\n      <td>2013-09-15 15:00:00</td>\n      <td>2013-12-14 15:00:00</td>\n      <td>emedcareers.com</td>\n      <td>32500.0</td>\n    </tr>\n    <tr>\n      <th>49062</th>\n      <td>69502456</td>\n      <td>team manager  central london  up to ****k  bonus</td>\n      <td>london</td>\n      <td>non-specified</td>\n      <td>non-specified</td>\n      <td>non-specified</td>\n      <td>accounting &amp; finance jobs</td>\n      <td>2012-05-18 15:00:00</td>\n      <td>2012-07-17 15:00:00</td>\n      <td>londonjobs.co.uk</td>\n      <td>10000.0</td>\n    </tr>\n    <tr>\n      <th>50579</th>\n      <td>72550738</td>\n      <td>senior internal auditor  global insurance company</td>\n      <td>london</td>\n      <td>non-specified</td>\n      <td>non-specified</td>\n      <td>non-specified</td>\n      <td>accounting &amp; finance jobs</td>\n      <td>2012-06-17 15:00:00</td>\n      <td>2012-07-17 15:00:00</td>\n      <td>onlineinsurancejobs.co.uk</td>\n      <td>33600.0</td>\n    </tr>\n    <tr>\n      <th>50291</th>\n      <td>69072514</td>\n      <td>pension administrator</td>\n      <td>london</td>\n      <td>non-specified</td>\n      <td>non-specified</td>\n      <td>non-specified</td>\n      <td>accounting &amp; finance jobs</td>\n      <td>2012-10-28 12:00:00</td>\n      <td>2012-12-27 12:00:00</td>\n      <td>professionalpensionsjobs.com</td>\n      <td>15744.0</td>\n    </tr>\n    <tr>\n      <th>50375</th>\n      <td>72599332</td>\n      <td>management accountant (3 days)</td>\n      <td>london</td>\n      <td>non-specified</td>\n      <td>non-specified</td>\n      <td>non-specified</td>\n      <td>accounting &amp; finance jobs</td>\n      <td>2012-10-28 12:00:00</td>\n      <td>2012-12-27 12:00:00</td>\n      <td>jobsfinancial.com</td>\n      <td>50000.0</td>\n    </tr>\n    <tr>\n      <th>49789</th>\n      <td>68070981</td>\n      <td>operational audit senior</td>\n      <td>london</td>\n      <td>non-specified</td>\n      <td>non-specified</td>\n      <td>non-specified</td>\n      <td>accounting &amp; finance jobs</td>\n      <td>2013-09-20 15:00:00</td>\n      <td>2013-11-19 15:00:00</td>\n      <td>careersinaudit.com</td>\n      <td>31000.0</td>\n    </tr>\n    <tr>\n      <th>50053</th>\n      <td>71342845</td>\n      <td>credit control/sales ledger</td>\n      <td>london</td>\n      <td>non-specified</td>\n      <td>non-specified</td>\n      <td>non-specified</td>\n      <td>accounting &amp; finance jobs</td>\n      <td>2013-11-05 15:00:00</td>\n      <td>2013-11-19 15:00:00</td>\n      <td>jobsincredit.com</td>\n      <td>35000.0</td>\n    </tr>\n    <tr>\n      <th>49071</th>\n      <td>69734378</td>\n      <td>support desk operator</td>\n      <td>london</td>\n      <td>non-specified</td>\n      <td>non-specified</td>\n      <td>non-specified</td>\n      <td>it jobs</td>\n      <td>2012-09-26 00:00:00</td>\n      <td>2012-11-25 00:00:00</td>\n      <td>londonjobs.co.uk</td>\n      <td>33600.0</td>\n    </tr>\n    <tr>\n      <th>49900</th>\n      <td>68854695</td>\n      <td>purley opticians manager</td>\n      <td>london</td>\n      <td>non-specified</td>\n      <td>non-specified</td>\n      <td>non-specified</td>\n      <td>it jobs</td>\n      <td>2012-08-27 00:00:00</td>\n      <td>2012-11-25 00:00:00</td>\n      <td>emptylemon.co.uk</td>\n      <td>15000.0</td>\n    </tr>\n  </tbody>\n</table>\n</div>"
     },
     "execution_count": 26,
     "metadata": {},
     "output_type": "execute_result"
    }
   ],
   "source": [
    "# check duplication by unique keys\n",
    "cols = ['Location','Company','ContractType','ContractTime','Category','CloseDate']\n",
    "duplicates = df[df.duplicated(cols,keep=False)]\n",
    "print (\"There are \"+ str(len(duplicates)) + \" duplicate records found\")\n",
    "duplicates.sort_values(by=cols).head(10)"
   ]
  },
  {
   "cell_type": "markdown",
   "metadata": {
    "pycharm": {
     "name": "#%% md\n"
    }
   },
   "source": [
    "#### Conflict 3: Drop duplicate base on global key"
   ]
  },
  {
   "cell_type": "code",
   "execution_count": 27,
   "metadata": {
    "pycharm": {
     "name": "#%%\n"
    }
   },
   "outputs": [
    {
     "name": "stdout",
     "output_type": "stream",
     "text": [
      "(55751, 11)\n"
     ]
    },
    {
     "data": {
      "text/plain": "(55732, 11)"
     },
     "execution_count": 27,
     "metadata": {},
     "output_type": "execute_result"
    }
   ],
   "source": [
    "print(df.shape)\n",
    "df = df.drop_duplicates(cols, keep='last')\n",
    "df.shape"
   ]
  },
  {
   "cell_type": "markdown",
   "metadata": {
    "pycharm": {
     "name": "#%% md\n"
    }
   },
   "source": [
    "<h3 style=\"color:#ffc0cb;font-size:50px;font-family:Georgia;text-align:center;\"><strong>5. Saving the integrated and reshaped data</strong></h3>\n",
    "\n",
    "4. Resolving data conflicts:\n",
    "\n",
    "The last part of the integration process is to export our output data to csv format, named as:\n",
    "- `s3879312_dataset_integrated.csv`"
   ]
  },
  {
   "cell_type": "code",
   "execution_count": 28,
   "metadata": {
    "pycharm": {
     "name": "#%%\n"
    }
   },
   "outputs": [
    {
     "name": "stdout",
     "output_type": "stream",
     "text": [
      "Saved the output data to csv format as dataset_integrated.csv successfully!\n",
      "\n",
      "\n"
     ]
    }
   ],
   "source": [
    "# code to save output data\n",
    "\n",
    "# names of the saved files\n",
    "csv_integrated = 'dataset_integrated.csv'\n",
    "\n",
    "# To write the data from data frame into a CSV file, use the to_csv function.\n",
    "df.to_csv(csv_integrated, index=False)\n",
    "\n",
    "# print out the success message\n",
    "print(f'Saved the output data to csv format as {csv_integrated} successfully!\\n\\n')"
   ]
  },
  {
   "cell_type": "markdown",
   "metadata": {
    "pycharm": {
     "name": "#%% md\n"
    }
   },
   "source": [
    "<h3 style=\"color:#ffc0cb;font-size:50px;font-family:Georgia;text-align:center;\"><strong>Summary</strong></h3>\n",
    "\n",
    "In this task, I mostly focus on data integrity, ensuring the data is properly concatenated with each other and identifying duplicated values using a global key. This is quite challenging for me since I need further domain knowledge and background in job hunting websites to understand what employers post on the sites and how job hunter search for them."
   ]
  },
  {
   "cell_type": "markdown",
   "metadata": {
    "pycharm": {
     "name": "#%% md\n"
    }
   },
   "source": [
    "<h3 style=\"color:#ffc0cb;font-size:50px;font-family:Georgia;text-align:center;\"><strong>References</strong></h3>\n",
    "\n",
    "+ [Concatenate pandas objects](https://pandas.pydata.org/docs/reference/api/pandas.concat.html)\n",
    "+ [Drop duplications](https://pandas.pydata.org/docs/reference/api/pandas.DataFrame.drop_duplicates.html)"
   ]
  }
 ],
 "metadata": {
  "kernelspec": {
   "display_name": "Python 3 (ipykernel)",
   "language": "python",
   "name": "python3"
  },
  "language_info": {
   "codemirror_mode": {
    "name": "ipython",
    "version": 3
   },
   "file_extension": ".py",
   "mimetype": "text/x-python",
   "name": "python",
   "nbconvert_exporter": "python",
   "pygments_lexer": "ipython3",
   "version": "3.9.12"
  }
 },
 "nbformat": 4,
 "nbformat_minor": 4
}