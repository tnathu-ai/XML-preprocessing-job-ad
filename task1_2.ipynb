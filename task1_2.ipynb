{
 "cells": [
  {
   "cell_type": "markdown",
   "metadata": {
    "pycharm": {
     "name": "#%% md\n"
    }
   },
   "source": [
    "# Task 1 and 2:\n",
    "<h3 style=\"color:#ffc0cb;font-size:50px;font-family:Georgia;text-align:center;\"><strong>Data Parsing, Cleansing and Integration</strong></h3>\n",
    "\n",
    "Version: 1.0\n",
    "\n",
    "Environment: Python 3 and Jupyter notebook\n",
    "\n",
    "Libraries used:\n",
    "* pandas\n",
    "* re\n",
    "* numpy\n",
    "* xml.etree.ElementTree\n",
    "* missingno\n",
    "* seaborn\n",
    "* matplotlib\n",
    "\n",
    "## Introduction\n",
    "\n",
    "The dataset combines jobs, and related information on those positions gathered from various job-hunting websites. Data pre-processing analysis on job advertisements is becoming more crucial and advantageous for job-search websites since it allows for enhancements to the user experience of searching.\n",
    "I will discover and resolve problems in data integration and manage a sizable collection of records related to job advertisements that are kept in XML format and have unknown data quality concerns.\n",
    "\n",
    "## Identify conflict\n",
    "\n",
    "### Schema level conflicts:\n",
    "+ Typos and spelling mistakes\n",
    "+ Irregularities, e.g., abnormal data values and data formats\n",
    "+ Violations of the Integrity constraint.\n",
    "+ Outliers\n",
    "+ Duplications\n",
    "+ Missing values\n",
    "+ Inconsistency, e.g., inhomogeneity in values and types in representing the same data\n",
    "\n",
    "### Data level conflicts:\n",
    "+ Duplications"
   ]
  },
  {
   "cell_type": "markdown",
   "metadata": {
    "pycharm": {
     "name": "#%% md\n"
    }
   },
   "source": [
    "## Importing libraries "
   ]
  },
  {
   "cell_type": "code",
   "execution_count": 1,
   "metadata": {
    "pycharm": {
     "name": "#%%\n"
    }
   },
   "outputs": [
    {
     "name": "stdout",
     "output_type": "stream",
     "text": [
      "Requirement already satisfied: missingno in /Users/tnathu-ai/.conda/envs/Advanced_Programming_for_Data_Science/lib/python3.10/site-packages (0.5.1)\r\n",
      "Requirement already satisfied: scipy in /Users/tnathu-ai/.conda/envs/Advanced_Programming_for_Data_Science/lib/python3.10/site-packages (from missingno) (1.9.0)\r\n",
      "Requirement already satisfied: numpy in /Users/tnathu-ai/.conda/envs/Advanced_Programming_for_Data_Science/lib/python3.10/site-packages (from missingno) (1.23.1)\r\n",
      "Requirement already satisfied: matplotlib in /Users/tnathu-ai/.conda/envs/Advanced_Programming_for_Data_Science/lib/python3.10/site-packages (from missingno) (3.5.1)\r\n",
      "Requirement already satisfied: seaborn in /Users/tnathu-ai/.conda/envs/Advanced_Programming_for_Data_Science/lib/python3.10/site-packages (from missingno) (0.11.2)\r\n",
      "Requirement already satisfied: kiwisolver>=1.0.1 in /Users/tnathu-ai/.conda/envs/Advanced_Programming_for_Data_Science/lib/python3.10/site-packages (from matplotlib->missingno) (1.4.2)\r\n",
      "Requirement already satisfied: fonttools>=4.22.0 in /Users/tnathu-ai/.conda/envs/Advanced_Programming_for_Data_Science/lib/python3.10/site-packages (from matplotlib->missingno) (4.25.0)\r\n",
      "Requirement already satisfied: cycler>=0.10 in /Users/tnathu-ai/.conda/envs/Advanced_Programming_for_Data_Science/lib/python3.10/site-packages (from matplotlib->missingno) (0.11.0)\r\n",
      "Requirement already satisfied: pillow>=6.2.0 in /Users/tnathu-ai/.conda/envs/Advanced_Programming_for_Data_Science/lib/python3.10/site-packages (from matplotlib->missingno) (9.2.0)\r\n",
      "Requirement already satisfied: packaging>=20.0 in /Users/tnathu-ai/.conda/envs/Advanced_Programming_for_Data_Science/lib/python3.10/site-packages (from matplotlib->missingno) (21.3)\r\n",
      "Requirement already satisfied: pyparsing>=2.2.1 in /Users/tnathu-ai/.conda/envs/Advanced_Programming_for_Data_Science/lib/python3.10/site-packages (from matplotlib->missingno) (3.0.4)\r\n",
      "Requirement already satisfied: python-dateutil>=2.7 in /Users/tnathu-ai/.conda/envs/Advanced_Programming_for_Data_Science/lib/python3.10/site-packages (from matplotlib->missingno) (2.8.2)\r\n",
      "Requirement already satisfied: pandas>=0.23 in /Users/tnathu-ai/.conda/envs/Advanced_Programming_for_Data_Science/lib/python3.10/site-packages (from seaborn->missingno) (1.4.3)\r\n",
      "Requirement already satisfied: pytz>=2020.1 in /Users/tnathu-ai/.conda/envs/Advanced_Programming_for_Data_Science/lib/python3.10/site-packages (from pandas>=0.23->seaborn->missingno) (2022.1)\r\n",
      "Requirement already satisfied: six>=1.5 in /Users/tnathu-ai/.conda/envs/Advanced_Programming_for_Data_Science/lib/python3.10/site-packages (from python-dateutil>=2.7->matplotlib->missingno) (1.16.0)\r\n"
     ]
    }
   ],
   "source": [
    "# Code to import libraries as you need in this assessment, e.g.,\n",
    "# inline installation\n",
    "import sys\n",
    "!{sys.executable} -m pip install missingno\n",
    "\n",
    "import pandas as pd\n",
    "import xml.etree.ElementTree as ET\n",
    "import numpy as np\n",
    "import re\n",
    "\n",
    "# Modules for data visualization\n",
    "import seaborn as sns\n",
    "import missingno as msno\n",
    "import matplotlib.pyplot as plt\n",
    "import matplotlib.patches as mpatches"
   ]
  },
  {
   "cell_type": "code",
   "execution_count": 2,
   "metadata": {
    "pycharm": {
     "name": "#%%\n"
    }
   },
   "outputs": [
    {
     "name": "stdout",
     "output_type": "stream",
     "text": [
      "Numpy version:  1.23.1\n",
      "Pandas version:  1.4.3\n",
      "Python 3.10.4\r\n"
     ]
    }
   ],
   "source": [
    "# check the version of the main packages\n",
    "print(\"Numpy version: \", np.__version__)\n",
    "print(\"Pandas version: \",pd.__version__)\n",
    "! python --version"
   ]
  },
  {
   "cell_type": "markdown",
   "metadata": {
    "pycharm": {
     "name": "#%% md\n"
    }
   },
   "source": [
    "<h3 style=\"color:#ffc0cb;font-size:50px;font-family:Georgia;text-align:center;\"><strong>Task 1. Parsing Data</strong></h3>"
   ]
  },
  {
   "cell_type": "markdown",
   "metadata": {
    "pycharm": {
     "name": "#%% md\n"
    }
   },
   "source": [
    "### 1.1. Examining and loading the XML data\n",
    "Examine **dataset1.xml** to determine its content and structure\n",
    "\n",
    "XML document form a tree structure that starts at \"the root\" (root element0 and branches to \"the leaves\" (child elements)."
   ]
  },
  {
   "cell_type": "code",
   "execution_count": 3,
   "metadata": {
    "pycharm": {
     "name": "#%%\n"
    }
   },
   "outputs": [
    {
     "name": "stdout",
     "output_type": "stream",
     "text": [
      "Root tag of the whole XML file: Job_Listings\n",
      "\n",
      "The first example attributes of Source : {'Name': 'caterer.com'}\n",
      "\n",
      "The first example attributes of <Element 'JobAd' at 0x7f85d24e0310> is {'OpenDate': '20120822T000000', 'CloseDate': '20121021T000000'}\n",
      "\n",
      "The first example text content of Id : 67378957\n",
      "\n",
      "\n"
     ]
    }
   ],
   "source": [
    "# read xml file\n",
    "tree = ET.parse('dataset1.xml')\n",
    "root = tree.getroot()\n",
    "\n",
    "# print the root tag and its children\n",
    "print(f'Root tag of the whole XML file: {root.tag}\\n')\n",
    "print(f'The first example attributes of {root[0].tag} : {root[0].attrib}\\n')\n",
    "print(f'The first example attributes of {root[0][0]} is {root[0][0].attrib}\\n')\n",
    "print(f'The first example text content of {root[0][0][0].tag} : {root[0][0][0].text}\\n\\n')\n",
    "\n",
    "# # example of child index out of range\n",
    "# print(f'The first example attributes of {root[0][0][0][0].tag} : {root[0][0][0][0].text}')"
   ]
  },
  {
   "cell_type": "markdown",
   "metadata": {
    "pycharm": {
     "name": "#%% md\n"
    }
   },
   "source": [
    "### --------> OBSERVATION\n",
    "\n",
    "+ The root of the XML file is `Job_Listings`.\n",
    "\n",
    "+ All elements in the XML file above either have attributes (OpenDate = \"20120822T000000\") or text contents (67378957)\n",
    "\n",
    "+ `Id`, `Title`, `Location`, `Company`, `ContractType`, `ContractTime`, `Category`, and `Salary` have text content because they contain text (like 35000).\n",
    "\n",
    "+ `Job_Listings`, `Source` and `JobAd` have element contents, because they contain elements.\n",
    "\n",
    "+ `Source` and `JobAd` have an attribute (e.g. Name = \"caterer.com\").\n",
    "\n",
    "+ The 2 attributes of element `JobAd` is `OpenDate` and `CloseDate` are in the format of YYYYMMDDThhmmss. Y\n",
    "indicates year, M indicates month, D indicates day, T is just a letter (means time), h indicates hour (24-hour\n",
    "format), m indicates minute, and s indicates second. For above example, \"20120822T000000\" means 00:00:00 22nd August 2012\n",
    "\n",
    "![Tree map for XML file](tree_map_XML.png)"
   ]
  },
  {
   "cell_type": "code",
   "execution_count": 4,
   "metadata": {
    "pycharm": {
     "name": "#%%\n"
    }
   },
   "outputs": [
    {
     "name": "stdout",
     "output_type": "stream",
     "text": [
      "50753 Id\n",
      "50753 Title\n",
      "50753 Location\n",
      "50753 Company\n",
      "50753 ContractType\n",
      "50753 ContractTime\n",
      "50753 Category\n",
      "50753 Salary\n",
      "50753 OpenDate\n",
      "50753 CloseDate\n",
      "50753 SourceName\n"
     ]
    }
   ],
   "source": [
    "# initialise a dictionary to store all the fields as empty lists\n",
    "dataDict = {'Id': [], 'Title': [], 'Location': [], 'Company': [], 'ContractType': [], 'ContractTime': [],\n",
    "            'Category': [], 'Salary': [], 'OpenDate': [], 'CloseDate': [], 'SourceName': []}\n",
    "\n",
    "# loop through each element in the XML and append to the dictionary\n",
    "for source in tree.findall('Source'):\n",
    "    for child1 in source: #iter over job ad\n",
    "        dataDict['SourceName'].append(source.attrib['Name']) if child1 is not None else None\n",
    "        dataDict['OpenDate'].append(child1.attrib['OpenDate']) if child1 is not None else None\n",
    "        dataDict['CloseDate'].append(child1.attrib['CloseDate']) if child1 is not None else None\n",
    "        for child in child1:\n",
    "            dataDict[child.tag].append(child.text) if child is not None else None\n",
    "\n",
    "# impute None to unequal length of fields\n",
    "for key in dataDict:\n",
    "    if len(dataDict[key]) != len(dataDict['Id']):\n",
    "        dataDict[key] = np.append(dataDict[key], [None]*(len(dataDict['Id']) - len(dataDict[key])))\n",
    "\n",
    "# check the length of each key in the dictionary\n",
    "# to ensure they all have equal length to convert into a dataframe\n",
    "for i,keys in dataDict.items():\n",
    "    print(len(dataDict[i]), i)"
   ]
  },
  {
   "cell_type": "markdown",
   "metadata": {
    "pycharm": {
     "name": "#%% md\n"
    }
   },
   "source": [
    "### 1.2 Parsing data into the required format"
   ]
  },
  {
   "cell_type": "code",
   "execution_count": 5,
   "metadata": {
    "pycharm": {
     "name": "#%%\n"
    },
    "tags": []
   },
   "outputs": [
    {
     "name": "stdout",
     "output_type": "stream",
     "text": [
      "<class 'pandas.core.frame.DataFrame'>\n",
      "RangeIndex: 50753 entries, 0 to 50752\n",
      "Data columns (total 11 columns):\n",
      " #   Column        Non-Null Count  Dtype \n",
      "---  ------        --------------  ----- \n",
      " 0   Id            50753 non-null  object\n",
      " 1   Title         50753 non-null  object\n",
      " 2   Location      50753 non-null  object\n",
      " 3   Company       49880 non-null  object\n",
      " 4   ContractType  40121 non-null  object\n",
      " 5   ContractTime  49050 non-null  object\n",
      " 6   Category      50753 non-null  object\n",
      " 7   Salary        50402 non-null  object\n",
      " 8   OpenDate      50753 non-null  object\n",
      " 9   CloseDate     50753 non-null  object\n",
      " 10  SourceName    50753 non-null  object\n",
      "dtypes: object(11)\n",
      "memory usage: 4.3+ MB\n",
      "None\n"
     ]
    },
    {
     "data": {
      "text/plain": "         Id                               Title           Location  \\\n0  67378957   Pastry Sous Chef, Five Star Hotel  South East London   \n1  69470006            Deputy Manager Leicester          Leicester   \n2  70146250  General Manager Brighton Nightclub           Brighton   \n\n                                             Company ContractType  \\\n0                                             SpaYse            -   \n1                              Cherryred Recruitment            -   \n2  Appetite4Recruitment   High End Restaurants, P...            -   \n\n  ContractTime                     Category Salary         OpenDate  \\\n0            -  Hospitality & Catering Jobs  35000  20120822T000000   \n1            -  Hospitality & Catering Jobs  26000  20121023T150000   \n2            -  Hospitality & Catering Jobs  31000  20131022T150000   \n\n         CloseDate   SourceName  \n0  20121021T000000  caterer.com  \n1  20121106T150000  caterer.com  \n2  20131221T150000  caterer.com  ",
      "text/html": "<div>\n<style scoped>\n    .dataframe tbody tr th:only-of-type {\n        vertical-align: middle;\n    }\n\n    .dataframe tbody tr th {\n        vertical-align: top;\n    }\n\n    .dataframe thead th {\n        text-align: right;\n    }\n</style>\n<table border=\"1\" class=\"dataframe\">\n  <thead>\n    <tr style=\"text-align: right;\">\n      <th></th>\n      <th>Id</th>\n      <th>Title</th>\n      <th>Location</th>\n      <th>Company</th>\n      <th>ContractType</th>\n      <th>ContractTime</th>\n      <th>Category</th>\n      <th>Salary</th>\n      <th>OpenDate</th>\n      <th>CloseDate</th>\n      <th>SourceName</th>\n    </tr>\n  </thead>\n  <tbody>\n    <tr>\n      <th>0</th>\n      <td>67378957</td>\n      <td>Pastry Sous Chef, Five Star Hotel</td>\n      <td>South East London</td>\n      <td>SpaYse</td>\n      <td>-</td>\n      <td>-</td>\n      <td>Hospitality &amp; Catering Jobs</td>\n      <td>35000</td>\n      <td>20120822T000000</td>\n      <td>20121021T000000</td>\n      <td>caterer.com</td>\n    </tr>\n    <tr>\n      <th>1</th>\n      <td>69470006</td>\n      <td>Deputy Manager Leicester</td>\n      <td>Leicester</td>\n      <td>Cherryred Recruitment</td>\n      <td>-</td>\n      <td>-</td>\n      <td>Hospitality &amp; Catering Jobs</td>\n      <td>26000</td>\n      <td>20121023T150000</td>\n      <td>20121106T150000</td>\n      <td>caterer.com</td>\n    </tr>\n    <tr>\n      <th>2</th>\n      <td>70146250</td>\n      <td>General Manager Brighton Nightclub</td>\n      <td>Brighton</td>\n      <td>Appetite4Recruitment   High End Restaurants, P...</td>\n      <td>-</td>\n      <td>-</td>\n      <td>Hospitality &amp; Catering Jobs</td>\n      <td>31000</td>\n      <td>20131022T150000</td>\n      <td>20131221T150000</td>\n      <td>caterer.com</td>\n    </tr>\n  </tbody>\n</table>\n</div>"
     },
     "execution_count": 5,
     "metadata": {},
     "output_type": "execute_result"
    }
   ],
   "source": [
    "# parse data into dataframe. columns/attributes: Id, Title, Location, Company, ContractType, ContractTime, Category, Salary, OpenDate, CloseDate and SourceName.\n",
    "\n",
    "df = pd.DataFrame(dataDict)\n",
    "\n",
    "# rename the columns\n",
    "df.rename(columns = {'Id':'Id','Title':'Title','Location':'Location','Category':'Category','Salary':'Salary',\n",
    "                     'OpenDate':'OpenDate','CloseDate':'CloseDate','SourceName':'SourceName'},inplace = True)\n",
    "\n",
    "# print out summarization info of the dataframe\n",
    "print(df.info())\n",
    "df.head(3)"
   ]
  },
  {
   "cell_type": "markdown",
   "metadata": {
    "pycharm": {
     "name": "#%% md\n"
    }
   },
   "source": [
    "### Overviewing the Data\n",
    "* Dimension of the dataset, i.e. the number of rows and columns\n",
    "* What are the attributes?\n",
    "* What is the data type of each attribute? And what is its range?"
   ]
  },
  {
   "cell_type": "code",
   "execution_count": 6,
   "metadata": {
    "pycharm": {
     "name": "#%%\n"
    }
   },
   "outputs": [
    {
     "name": "stdout",
     "output_type": "stream",
     "text": [
      "<class 'pandas.core.frame.DataFrame'>\n",
      "RangeIndex: 50753 entries, 0 to 50752\n",
      "Data columns (total 11 columns):\n",
      " #   Column        Non-Null Count  Dtype \n",
      "---  ------        --------------  ----- \n",
      " 0   Id            50753 non-null  object\n",
      " 1   Title         50753 non-null  object\n",
      " 2   Location      50753 non-null  object\n",
      " 3   Company       49880 non-null  object\n",
      " 4   ContractType  40121 non-null  object\n",
      " 5   ContractTime  49050 non-null  object\n",
      " 6   Category      50753 non-null  object\n",
      " 7   Salary        50402 non-null  object\n",
      " 8   OpenDate      50753 non-null  object\n",
      " 9   CloseDate     50753 non-null  object\n",
      " 10  SourceName    50753 non-null  object\n",
      "dtypes: object(11)\n",
      "memory usage: 4.3+ MB\n"
     ]
    }
   ],
   "source": [
    "df.info()"
   ]
  },
  {
   "cell_type": "code",
   "execution_count": 7,
   "metadata": {
    "pycharm": {
     "name": "#%%\n"
    }
   },
   "outputs": [
    {
     "data": {
      "text/plain": "              Id                               Title Location Company  \\\ncount      50753                               50753    50753   49880   \nunique     50753                               50750      496    8774   \ntop     67378957  Quality Assurance/Software Testers       UK       -   \nfreq           1                                   2     7700    3369   \n\n       ContractType ContractTime Category Salary         OpenDate  \\\ncount         40121        49050    50753  50402            50753   \nunique            5            5        8   3434             2194   \ntop               -    permanent  IT Jobs  35000  20120408T120000   \nfreq          14336        31009    13171   1735               42   \n\n              CloseDate     SourceName  \ncount             50753          50753  \nunique             2416            107  \ntop     20130626T000000  totaljobs.com  \nfreq                 40           9224  ",
      "text/html": "<div>\n<style scoped>\n    .dataframe tbody tr th:only-of-type {\n        vertical-align: middle;\n    }\n\n    .dataframe tbody tr th {\n        vertical-align: top;\n    }\n\n    .dataframe thead th {\n        text-align: right;\n    }\n</style>\n<table border=\"1\" class=\"dataframe\">\n  <thead>\n    <tr style=\"text-align: right;\">\n      <th></th>\n      <th>Id</th>\n      <th>Title</th>\n      <th>Location</th>\n      <th>Company</th>\n      <th>ContractType</th>\n      <th>ContractTime</th>\n      <th>Category</th>\n      <th>Salary</th>\n      <th>OpenDate</th>\n      <th>CloseDate</th>\n      <th>SourceName</th>\n    </tr>\n  </thead>\n  <tbody>\n    <tr>\n      <th>count</th>\n      <td>50753</td>\n      <td>50753</td>\n      <td>50753</td>\n      <td>49880</td>\n      <td>40121</td>\n      <td>49050</td>\n      <td>50753</td>\n      <td>50402</td>\n      <td>50753</td>\n      <td>50753</td>\n      <td>50753</td>\n    </tr>\n    <tr>\n      <th>unique</th>\n      <td>50753</td>\n      <td>50750</td>\n      <td>496</td>\n      <td>8774</td>\n      <td>5</td>\n      <td>5</td>\n      <td>8</td>\n      <td>3434</td>\n      <td>2194</td>\n      <td>2416</td>\n      <td>107</td>\n    </tr>\n    <tr>\n      <th>top</th>\n      <td>67378957</td>\n      <td>Quality Assurance/Software Testers</td>\n      <td>UK</td>\n      <td>-</td>\n      <td>-</td>\n      <td>permanent</td>\n      <td>IT Jobs</td>\n      <td>35000</td>\n      <td>20120408T120000</td>\n      <td>20130626T000000</td>\n      <td>totaljobs.com</td>\n    </tr>\n    <tr>\n      <th>freq</th>\n      <td>1</td>\n      <td>2</td>\n      <td>7700</td>\n      <td>3369</td>\n      <td>14336</td>\n      <td>31009</td>\n      <td>13171</td>\n      <td>1735</td>\n      <td>42</td>\n      <td>40</td>\n      <td>9224</td>\n    </tr>\n  </tbody>\n</table>\n</div>"
     },
     "execution_count": 7,
     "metadata": {},
     "output_type": "execute_result"
    }
   ],
   "source": [
    "df.describe() # range of all variables"
   ]
  },
  {
   "cell_type": "markdown",
   "metadata": {
    "pycharm": {
     "name": "#%% md\n"
    }
   },
   "source": [
    "### --------> OBSERVATION\n",
    "\n",
    "I can see since the `describe` function assume all columns are categorical, it only summarizes all by count, unique, top, and frequency. Let's convert columns to their appropriate data type"
   ]
  },
  {
   "cell_type": "markdown",
   "metadata": {
    "pycharm": {
     "name": "#%% md\n"
    }
   },
   "source": [
    "<h3 style=\"color:#ffc0cb;font-size:50px;font-family:Georgia;text-align:center;\"><strong>Task 2. Auditing and cleansing the loaded data</strong></h3>\n",
    "\n",
    "Identify data problems, fix them, and record the errors found and fixings in an error list.\n",
    "\n",
    "1. **Syntactical Anomalies**:\n",
    "anomalies concerning the format and values used for representation of the entities. Common syntactic anomalies are: lexical errors, domain format errors, syntactical error and irregularities.\n",
    "2. **Semantic Anomalies**:\n",
    "anomalies hindering the data collection from being a comprehensive and non-redundant representation of the mini-world. These types of anomalies include: integrity constraint violations, contradictions, duplicates and invalid tuples.\n",
    "3. **Coverage Anomalies**:\n",
    "anomalies decreasing the amount of entities and entity properties from the mini-world that are represented in the data collection. Coverage anomalies are categorized as: missing values and missing tuples."
   ]
  },
  {
   "cell_type": "markdown",
   "metadata": {
    "pycharm": {
     "name": "#%% md\n"
    }
   },
   "source": [
    "#### Creating an error recorder\n",
    "To record an error, we need:\n",
    "- `indexOfdf`: index of the record/row in the original dataset\n",
    "- `Id`: the id of the job advertisement that has the data issue. If the data issue involves all job records, just put “ALL”.\n",
    "- `ColumnName`: the name of the column that the data issue locates\n",
    "- `Original`: the original value of the cell\n",
    "- `Modified`: the modified value of the cell\n",
    "- `ErrorType` : the type of errors, for example, Missing Values, Violation of Integrity Constraint, Outliers, or any other errors found\n",
    "- `Fixing`: describe how this problem was fixed."
   ]
  },
  {
   "cell_type": "code",
   "execution_count": 8,
   "metadata": {
    "pycharm": {
     "name": "#%%\n"
    }
   },
   "outputs": [
    {
     "data": {
      "text/plain": "Empty DataFrame\nColumns: [indexOfdf, Id, ColumnName, Original, Modified, ErrorType, Fixing]\nIndex: []",
      "text/html": "<div>\n<style scoped>\n    .dataframe tbody tr th:only-of-type {\n        vertical-align: middle;\n    }\n\n    .dataframe tbody tr th {\n        vertical-align: top;\n    }\n\n    .dataframe thead th {\n        text-align: right;\n    }\n</style>\n<table border=\"1\" class=\"dataframe\">\n  <thead>\n    <tr style=\"text-align: right;\">\n      <th></th>\n      <th>indexOfdf</th>\n      <th>Id</th>\n      <th>ColumnName</th>\n      <th>Original</th>\n      <th>Modified</th>\n      <th>ErrorType</th>\n      <th>Fixing</th>\n    </tr>\n  </thead>\n  <tbody>\n  </tbody>\n</table>\n</div>"
     },
     "execution_count": 8,
     "metadata": {},
     "output_type": "execute_result"
    }
   ],
   "source": [
    "# create and error recorder (i.e. the error_list)\n",
    "itemlist = ['indexOfdf','Id','ColumnName', 'Original', 'Modified', 'ErrorType','Fixing']\n",
    "error_list = pd.DataFrame(columns=itemlist)\n",
    "error_list"
   ]
  },
  {
   "cell_type": "markdown",
   "metadata": {
    "pycharm": {
     "name": "#%% md\n"
    }
   },
   "source": [
    "#### Function for updating the error records"
   ]
  },
  {
   "cell_type": "code",
   "execution_count": 9,
   "metadata": {
    "pycharm": {
     "name": "#%%\n"
    }
   },
   "outputs": [
    {
     "data": {
      "text/plain": "RangeIndex(start=0, stop=50753, step=1)"
     },
     "execution_count": 9,
     "metadata": {},
     "output_type": "execute_result"
    }
   ],
   "source": [
    "# update error list by attributes\n",
    "def update_error_list(indexOfdf, Id, ColumnName, Orignal, Modified, ErrorType, Fixing):\n",
    "    errItem=[indexOfdf, Id, ColumnName, Orignal, Modified, ErrorType,Fixing]\n",
    "    error_list.loc[len(error_list)]=errItem\n",
    "\n",
    "# Obtain all indexes of the records in the dataframe:\n",
    "indices = df.index\n",
    "indices"
   ]
  },
  {
   "cell_type": "markdown",
   "metadata": {
    "pycharm": {
     "name": "#%% md\n"
    }
   },
   "source": [
    "### About the meaning of the attributes\n",
    "***\n",
    "\n",
    "The datatype and the description of each column\n",
    "\n",
    "***\n",
    "**Categorical:**\n",
    "- **Nominal (string)**\n",
    "> - **Title**: Title of the advertised job position\n",
    "> - **Location**: Location of the advertised job position\n",
    "> - **Company**: Company (employer) of the advertised job position\n",
    "> - **ContractType**: The contract type of the advertised job position\n",
    "> - **ContractTime**: The contract time of the advertised job position\n",
    "> - **Category**: The category of the advertised job position\n",
    "> - **SourceName**: The website where the job position is advertised\n",
    "***\n",
    "**Numeric:**\n",
    "- **Continuous (float)**\n",
    ">  - **Salary**: Annual salary of the advertised job position\n",
    "- **Discrete (Int64)**\n",
    ">  - **Id**: 8 digit Id of the job advertisement\n",
    "***\n",
    "**Date/time (datetime64[ns]):**\n",
    "- **OpenDate**: The opening time for the job application\n",
    "- **CloseDate**: The closing time for applying for the advertised job position"
   ]
  },
  {
   "cell_type": "markdown",
   "metadata": {
    "pycharm": {
     "name": "#%% md\n"
    }
   },
   "source": [
    "### Invalid datetime"
   ]
  },
  {
   "cell_type": "code",
   "execution_count": 10,
   "metadata": {
    "pycharm": {
     "name": "#%%\n"
    }
   },
   "outputs": [
    {
     "name": "stdout",
     "output_type": "stream",
     "text": [
      "20132309T000000 is not a valid date\n"
     ]
    },
    {
     "data": {
      "text/plain": "             Id                                  Title Location  \\\n14577  71198154  Salesforce Developer, London to ****k   London   \n\n                 Company ContractType ContractTime Category Salary  \\\n14577  Citrus Global Ltd                 permanent  IT Jobs  37500   \n\n              OpenDate        CloseDate     SourceName  OpenDate_check  \n14577  20132309T000000  20131122T000000  jobsite.co.uk           False  ",
      "text/html": "<div>\n<style scoped>\n    .dataframe tbody tr th:only-of-type {\n        vertical-align: middle;\n    }\n\n    .dataframe tbody tr th {\n        vertical-align: top;\n    }\n\n    .dataframe thead th {\n        text-align: right;\n    }\n</style>\n<table border=\"1\" class=\"dataframe\">\n  <thead>\n    <tr style=\"text-align: right;\">\n      <th></th>\n      <th>Id</th>\n      <th>Title</th>\n      <th>Location</th>\n      <th>Company</th>\n      <th>ContractType</th>\n      <th>ContractTime</th>\n      <th>Category</th>\n      <th>Salary</th>\n      <th>OpenDate</th>\n      <th>CloseDate</th>\n      <th>SourceName</th>\n      <th>OpenDate_check</th>\n    </tr>\n  </thead>\n  <tbody>\n    <tr>\n      <th>14577</th>\n      <td>71198154</td>\n      <td>Salesforce Developer, London to ****k</td>\n      <td>London</td>\n      <td>Citrus Global Ltd</td>\n      <td></td>\n      <td>permanent</td>\n      <td>IT Jobs</td>\n      <td>37500</td>\n      <td>20132309T000000</td>\n      <td>20131122T000000</td>\n      <td>jobsite.co.uk</td>\n      <td>False</td>\n    </tr>\n  </tbody>\n</table>\n</div>"
     },
     "execution_count": 10,
     "metadata": {},
     "output_type": "execute_result"
    }
   ],
   "source": [
    "import datetime\n",
    "import datetime as dt\n",
    "\n",
    "# define a method to parse date using datetime library\n",
    "def parseDate(datetime):\n",
    "    try:\n",
    "        mydt = dt.datetime.strptime(datetime, '%Y%m%dT%H%M%S')\n",
    "        return True\n",
    "    except ValueError: # refer to the above, it raises a ValueError\n",
    "        print(datetime,\"is not a valid date\")\n",
    "        return False\n",
    "\n",
    "df['OpenDate_check'] = df['OpenDate'].apply(parseDate)\n",
    "df[df['OpenDate_check']==False]"
   ]
  },
  {
   "cell_type": "code",
   "execution_count": 11,
   "metadata": {
    "pycharm": {
     "name": "#%%\n"
    }
   },
   "outputs": [],
   "source": [
    "update_error_list('14577', '71198154', 'OpenDate', '20132309T000000', '20130923T000000', 'Wrong Date Format', 'Change the location of day and month')\n",
    "\n",
    "replace_dict = {'20132309T000000':'20130923T000000'}\n",
    "df['OpenDate'].replace(replace_dict,inplace=True)\n",
    "# delete column\n",
    "df.drop(columns=['OpenDate_check'],inplace=True)"
   ]
  },
  {
   "cell_type": "markdown",
   "metadata": {
    "pycharm": {
     "name": "#%% md\n"
    }
   },
   "source": [
    "# Parse Columns into the Required Format"
   ]
  },
  {
   "cell_type": "code",
   "execution_count": 12,
   "metadata": {
    "pycharm": {
     "name": "#%%\n"
    }
   },
   "outputs": [
    {
     "name": "stdout",
     "output_type": "stream",
     "text": [
      "Number of numeric columns:  1\n",
      "List of numeric columns:  ['Id'] \n",
      "\n",
      "Number of categorical columns:  8\n",
      "List of string columns:  ['Title', 'Location', 'Company', 'ContractType', 'ContractTime', 'Category', 'Salary', 'SourceName'] \n",
      "\n",
      "\n",
      "<class 'pandas.core.frame.DataFrame'>\n",
      "RangeIndex: 50753 entries, 0 to 50752\n",
      "Data columns (total 11 columns):\n",
      " #   Column        Non-Null Count  Dtype         \n",
      "---  ------        --------------  -----         \n",
      " 0   Id            50753 non-null  Int32         \n",
      " 1   Title         50753 non-null  string        \n",
      " 2   Location      50753 non-null  string        \n",
      " 3   Company       49880 non-null  string        \n",
      " 4   ContractType  40121 non-null  string        \n",
      " 5   ContractTime  49050 non-null  string        \n",
      " 6   Category      50753 non-null  string        \n",
      " 7   Salary        50402 non-null  string        \n",
      " 8   OpenDate      50753 non-null  datetime64[ns]\n",
      " 9   CloseDate     50753 non-null  datetime64[ns]\n",
      " 10  SourceName    50753 non-null  string        \n",
      "dtypes: Int32(1), datetime64[ns](2), string(8)\n",
      "memory usage: 4.1 MB\n"
     ]
    }
   ],
   "source": [
    "def coerce_df_columns_to_best_dtype(df, int32_column_list, float_column_list, datetime_column_list):\n",
    "\n",
    "    # convert to integer dtype \n",
    "    df[int32_column_list] = df[int32_column_list].astype('int32', errors='ignore')\n",
    "    \n",
    "    # convert to float dtype\n",
    "    df[float_column_list] = df[float_column_list].astype('float', errors='ignore')\n",
    "    \n",
    "    # convert to datetime format yyyy-mm-dd hh:mm:ss\n",
    "    df[datetime_column_list] = df[datetime_column_list].apply(pd.to_datetime, errors='coerce')\n",
    "\n",
    "    # convert object columns to string datatype\n",
    "    df = df.convert_dtypes()\n",
    "\n",
    "    # select numeric columns\n",
    "    df_numeric = df.select_dtypes(include=[np.number]).columns.to_list()\n",
    "\n",
    "    # select non-numeric columns\n",
    "    df_string = df.select_dtypes(include='string').columns.tolist()\n",
    "\n",
    "    # print out the name and number of numeric column\n",
    "    print(\"Number of numeric columns: \", len(df_numeric))\n",
    "    print(\"List of numeric columns: \", df_numeric, \"\\n\")\n",
    "\n",
    "    # print out the name and number of categorical column\n",
    "    print(\"Number of categorical columns: \", len(df_string))\n",
    "    print(\"List of string columns: \", df_string, \"\\n\\n\")\n",
    "\n",
    "    # return datatype for each column after coercing\n",
    "    return df.info()\n",
    "\n",
    "# apply the coerce_df_columns_to_best_dtype function to the dataframe\n",
    "coerce_df_columns_to_best_dtype(df, 'Id', 'Salary', ['OpenDate', 'CloseDate'])\n",
    "\n",
    "# record the problems and fixings\n",
    "update_error_list('All', 'All', 'All', 'NA', 'NA', 'Parse all columns into requuired format', 'Convert to appropriate int, float, and datetime datatype')"
   ]
  },
  {
   "cell_type": "markdown",
   "metadata": {
    "pycharm": {
     "name": "#%% md\n"
    }
   },
   "source": [
    "### ---------> OBSERVATION\n",
    "+ The `Salary` could not be converted in float since the columns contain string value which raise error **\"ValueError: could not convert string to float**"
   ]
  },
  {
   "cell_type": "code",
   "execution_count": 13,
   "metadata": {
    "pycharm": {
     "name": "#%%\n"
    }
   },
   "outputs": [
    {
     "name": "stdout",
     "output_type": "stream",
     "text": [
      "The number of records that match the pattern: 48586\n",
      "The total number of records: 50753\n"
     ]
    },
    {
     "data": {
      "text/plain": "          Id                                            Title  \\\n4   70735431  Chef de Partie Pastry **** Star Exclusive Hotel   \n13  66552755         Chef De Rang Michelin Starred Restaurant   \n39  71275568    Assistant Manager – Front of House – Heathrow   \n\n             Location         Company ContractType ContractTime  \\\n4   South East London  Chef for Chefs            -            -   \n13             Woking    Fully Booked            -            -   \n39                 UK   Pret A Manger            -            -   \n\n                       Category Salary            OpenDate  \\\n4   Hospitality & Catering Jobs      - 2013-03-08 15:00:00   \n13  Hospitality & Catering Jobs      - 2012-09-20 12:00:00   \n39  Hospitality & Catering Jobs      - 2013-04-08 00:00:00   \n\n             CloseDate   SourceName  Salary_check  \n4  2013-05-07 15:00:00  caterer.com         False  \n13 2012-10-04 12:00:00  caterer.com         False  \n39 2013-04-22 00:00:00  caterer.com         False  ",
      "text/html": "<div>\n<style scoped>\n    .dataframe tbody tr th:only-of-type {\n        vertical-align: middle;\n    }\n\n    .dataframe tbody tr th {\n        vertical-align: top;\n    }\n\n    .dataframe thead th {\n        text-align: right;\n    }\n</style>\n<table border=\"1\" class=\"dataframe\">\n  <thead>\n    <tr style=\"text-align: right;\">\n      <th></th>\n      <th>Id</th>\n      <th>Title</th>\n      <th>Location</th>\n      <th>Company</th>\n      <th>ContractType</th>\n      <th>ContractTime</th>\n      <th>Category</th>\n      <th>Salary</th>\n      <th>OpenDate</th>\n      <th>CloseDate</th>\n      <th>SourceName</th>\n      <th>Salary_check</th>\n    </tr>\n  </thead>\n  <tbody>\n    <tr>\n      <th>4</th>\n      <td>70735431</td>\n      <td>Chef de Partie Pastry **** Star Exclusive Hotel</td>\n      <td>South East London</td>\n      <td>Chef for Chefs</td>\n      <td>-</td>\n      <td>-</td>\n      <td>Hospitality &amp; Catering Jobs</td>\n      <td>-</td>\n      <td>2013-03-08 15:00:00</td>\n      <td>2013-05-07 15:00:00</td>\n      <td>caterer.com</td>\n      <td>False</td>\n    </tr>\n    <tr>\n      <th>13</th>\n      <td>66552755</td>\n      <td>Chef De Rang Michelin Starred Restaurant</td>\n      <td>Woking</td>\n      <td>Fully Booked</td>\n      <td>-</td>\n      <td>-</td>\n      <td>Hospitality &amp; Catering Jobs</td>\n      <td>-</td>\n      <td>2012-09-20 12:00:00</td>\n      <td>2012-10-04 12:00:00</td>\n      <td>caterer.com</td>\n      <td>False</td>\n    </tr>\n    <tr>\n      <th>39</th>\n      <td>71275568</td>\n      <td>Assistant Manager – Front of House – Heathrow</td>\n      <td>UK</td>\n      <td>Pret A Manger</td>\n      <td>-</td>\n      <td>-</td>\n      <td>Hospitality &amp; Catering Jobs</td>\n      <td>-</td>\n      <td>2013-04-08 00:00:00</td>\n      <td>2013-04-22 00:00:00</td>\n      <td>caterer.com</td>\n      <td>False</td>\n    </tr>\n  </tbody>\n</table>\n</div>"
     },
     "execution_count": 13,
     "metadata": {},
     "output_type": "execute_result"
    }
   ],
   "source": [
    "# define a functin to check the pattern of float values\n",
    "# return True is the pattern matches, and False is not\n",
    "def check_float(value, pattern=re.compile(r\"[0-9]+([.][0-9]*)?|[.][0-9]+\")):\n",
    "    return True if pattern.match(str(value)) else False\n",
    "\n",
    "# Checking whether all rows in the Salary number column\n",
    "df['Salary_check'] = df['Salary'].apply(check_float) # create a column of checking results\n",
    "print(\"The number of records that match the pattern:\",sum(df['Salary_check']))\n",
    "print(\"The total number of records:\",df.shape[0])\n",
    "\n",
    "# See first 3 rows of non numeric Salary\n",
    "df[~df['Salary_check']].head(3)"
   ]
  },
  {
   "cell_type": "markdown",
   "metadata": {
    "pycharm": {
     "name": "#%% md\n"
    }
   },
   "source": [
    "### -------> OBSERVATION\n",
    "\n",
    "+ 48586/50753 have the float format values. Non-float format including string values (e.g. `-`) or null values\n",
    "\n",
    "+ Let's convert values with non float pattern to null values and I'll do imputation for these values later"
   ]
  },
  {
   "cell_type": "code",
   "execution_count": 14,
   "metadata": {
    "pycharm": {
     "name": "#%%\n"
    }
   },
   "outputs": [],
   "source": [
    "# delete the check salary col\n",
    "del df['Salary_check']"
   ]
  },
  {
   "cell_type": "code",
   "execution_count": 15,
   "metadata": {
    "pycharm": {
     "name": "#%%\n"
    }
   },
   "outputs": [],
   "source": [
    "# define a functin to check the pattern of bike number column\n",
    "# return True is the pattern matches, and False is not\n",
    "def keep_float(value, pattern=re.compile(r\"^[0-9]+([.][0-9]*)?|[.][0-9]+$\")):\n",
    "    return value if pattern.fullmatch(str(value)) else None\n",
    "\n",
    "# Keep all rows in the Salary which are in float format\n",
    "df['Salary'] = df['Salary'].apply(keep_float) # create a column of checking results\n",
    "\n",
    "# convert to float dtype\n",
    "df['Salary'] = df['Salary'].astype('float', errors='raise').round(decimals = 2)"
   ]
  },
  {
   "cell_type": "code",
   "execution_count": 16,
   "metadata": {
    "pycharm": {
     "name": "#%%\n"
    }
   },
   "outputs": [
    {
     "name": "stdout",
     "output_type": "stream",
     "text": [
      "<class 'pandas.core.frame.DataFrame'>\n",
      "RangeIndex: 50753 entries, 0 to 50752\n",
      "Data columns (total 11 columns):\n",
      " #   Column        Non-Null Count  Dtype         \n",
      "---  ------        --------------  -----         \n",
      " 0   Id            50753 non-null  int32         \n",
      " 1   Title         50753 non-null  object        \n",
      " 2   Location      50753 non-null  object        \n",
      " 3   Company       49880 non-null  object        \n",
      " 4   ContractType  40121 non-null  object        \n",
      " 5   ContractTime  49050 non-null  object        \n",
      " 6   Category      50753 non-null  object        \n",
      " 7   Salary        48126 non-null  float64       \n",
      " 8   OpenDate      50753 non-null  datetime64[ns]\n",
      " 9   CloseDate     50753 non-null  datetime64[ns]\n",
      " 10  SourceName    50753 non-null  object        \n",
      "dtypes: datetime64[ns](2), float64(1), int32(1), object(7)\n",
      "memory usage: 4.1+ MB\n"
     ]
    }
   ],
   "source": [
    "df.info()"
   ]
  },
  {
   "cell_type": "markdown",
   "metadata": {
    "pycharm": {
     "name": "#%% md\n"
    }
   },
   "source": [
    "### ---> OBSERVATION\n",
    "+ The number of null values for `Salary` increases since we just converted non-float format into null\n",
    "+ The datatype for `Salary` now is `float64`"
   ]
  },
  {
   "cell_type": "code",
   "execution_count": 17,
   "metadata": {
    "pycharm": {
     "name": "#%%\n"
    }
   },
   "outputs": [
    {
     "data": {
      "text/plain": "          count         mean         std         min         25%         50%  \\\nId      50753.0  68847069.77  4238731.34  12612628.0  68347142.0  69214702.0   \nSalary  48126.0     34697.95    66243.93         0.0     23000.0     31000.0   \n\n               75%         max  \nId      71269039.0  72705203.0  \nSalary     42500.0  10000000.0  ",
      "text/html": "<div>\n<style scoped>\n    .dataframe tbody tr th:only-of-type {\n        vertical-align: middle;\n    }\n\n    .dataframe tbody tr th {\n        vertical-align: top;\n    }\n\n    .dataframe thead th {\n        text-align: right;\n    }\n</style>\n<table border=\"1\" class=\"dataframe\">\n  <thead>\n    <tr style=\"text-align: right;\">\n      <th></th>\n      <th>count</th>\n      <th>mean</th>\n      <th>std</th>\n      <th>min</th>\n      <th>25%</th>\n      <th>50%</th>\n      <th>75%</th>\n      <th>max</th>\n    </tr>\n  </thead>\n  <tbody>\n    <tr>\n      <th>Id</th>\n      <td>50753.0</td>\n      <td>68847069.77</td>\n      <td>4238731.34</td>\n      <td>12612628.0</td>\n      <td>68347142.0</td>\n      <td>69214702.0</td>\n      <td>71269039.0</td>\n      <td>72705203.0</td>\n    </tr>\n    <tr>\n      <th>Salary</th>\n      <td>48126.0</td>\n      <td>34697.95</td>\n      <td>66243.93</td>\n      <td>0.0</td>\n      <td>23000.0</td>\n      <td>31000.0</td>\n      <td>42500.0</td>\n      <td>10000000.0</td>\n    </tr>\n  </tbody>\n</table>\n</div>"
     },
     "execution_count": 17,
     "metadata": {},
     "output_type": "execute_result"
    }
   ],
   "source": [
    "df.describe().T.round(2)"
   ]
  },
  {
   "cell_type": "markdown",
   "metadata": {
    "pycharm": {
     "name": "#%% md\n"
    }
   },
   "source": [
    "### ------> OBSERVATION\n",
    "\n",
    "+ There is a huge disparity between the mean (3.469795e+04) and median (31000.0). This indicates the distribution of the `Salary` is highly skewed to the right since mean > median"
   ]
  },
  {
   "cell_type": "code",
   "execution_count": 18,
   "metadata": {
    "pycharm": {
     "name": "#%%\n"
    }
   },
   "outputs": [
    {
     "data": {
      "text/plain": "<AxesSubplot:>"
     },
     "execution_count": 18,
     "metadata": {},
     "output_type": "execute_result"
    },
    {
     "data": {
      "text/plain": "<Figure size 1080x360 with 1 Axes>",
      "image/png": "[encoded data removed]"
     },
     "metadata": {},
     "output_type": "display_data"
    }
   ],
   "source": [
    "# plot the boxplot to see the outlier of each numerical column\n",
    "plt.figure(figsize= (15,5))\n",
    "sns.boxplot(data=df.Salary,orient=\"h\",color=\"pink\")"
   ]
  },
  {
   "cell_type": "code",
   "execution_count": 19,
   "metadata": {
    "pycharm": {
     "name": "#%%\n"
    }
   },
   "outputs": [
    {
     "data": {
      "text/plain": "[{'mean': 34697.94998545485,\n  'iqr': 19500.0,\n  'cilo': 30860.445327978665,\n  'cihi': 31139.554672021335,\n  'whishi': 71500.0,\n  'whislo': 0.0,\n  'fliers': array([75000., 90000., 96000., ..., 93600., 80000., 90000.]),\n  'q1': 23000.0,\n  'med': 31000.0,\n  'q3': 42500.0}]"
     },
     "execution_count": 19,
     "metadata": {},
     "output_type": "execute_result"
    }
   ],
   "source": [
    "from matplotlib.cbook import boxplot_stats\n",
    "\n",
    "filter_data = df.Salary[~np.isnan(df.Salary)] # I have to fliter NaN values before we use the boxplot_stats\n",
    "stats = boxplot_stats(filter_data)\n",
    "stats"
   ]
  },
  {
   "cell_type": "markdown",
   "metadata": {
    "pycharm": {
     "name": "#%% md\n"
    }
   },
   "source": [
    "### ------> OBSERVATION\n",
    "+ The 'fliers' are outliers. It seems they are having values of [75000., 90000., 96000., ..., 93600., 80000., 90000.].\n",
    "+ I can see some an outlier values in `Salary`. Let's investigate them further to see if they are real outliers\n",
    "+ I replace walue which **greater than or equal to 10000000.0** because there is still a great gap between two distintive outlier. This is because the value is rare. We will replace the value with median because we do not want the graph to be too much skew."
   ]
  },
  {
   "cell_type": "code",
   "execution_count": 20,
   "metadata": {
    "pycharm": {
     "name": "#%%\n"
    }
   },
   "outputs": [
    {
     "data": {
      "text/plain": "             Id                                              Title Location  \\\n12082  69043447      Android Developer  Digital Media  City London   London   \n12084  70175965  Digital Delivery Usability and Accessibility M...       UK   \n12098  66403563                  Senior Java Developer  ServerSide  Newbury   \n\n                               Company ContractType ContractTime Category  \\\n12082  Evolution Recruitment Solutions                 permanent  IT Jobs   \n12084            Skills Funding Agency                 permanent  IT Jobs   \n12098       RICHARD WHEELER ASSOCIATES                 permanent  IT Jobs   \n\n       Salary            OpenDate           CloseDate    SourceName  \n12082     0.0 2012-08-07 12:00:00 2012-10-06 12:00:00  cwjobs.co.uk  \n12084     0.0 2013-10-26 15:00:00 2014-01-24 15:00:00  cwjobs.co.uk  \n12098     0.0 2013-01-14 12:00:00 2013-02-13 12:00:00  cwjobs.co.uk  ",
      "text/html": "<div>\n<style scoped>\n    .dataframe tbody tr th:only-of-type {\n        vertical-align: middle;\n    }\n\n    .dataframe tbody tr th {\n        vertical-align: top;\n    }\n\n    .dataframe thead th {\n        text-align: right;\n    }\n</style>\n<table border=\"1\" class=\"dataframe\">\n  <thead>\n    <tr style=\"text-align: right;\">\n      <th></th>\n      <th>Id</th>\n      <th>Title</th>\n      <th>Location</th>\n      <th>Company</th>\n      <th>ContractType</th>\n      <th>ContractTime</th>\n      <th>Category</th>\n      <th>Salary</th>\n      <th>OpenDate</th>\n      <th>CloseDate</th>\n      <th>SourceName</th>\n    </tr>\n  </thead>\n  <tbody>\n    <tr>\n      <th>12082</th>\n      <td>69043447</td>\n      <td>Android Developer  Digital Media  City London</td>\n      <td>London</td>\n      <td>Evolution Recruitment Solutions</td>\n      <td></td>\n      <td>permanent</td>\n      <td>IT Jobs</td>\n      <td>0.0</td>\n      <td>2012-08-07 12:00:00</td>\n      <td>2012-10-06 12:00:00</td>\n      <td>cwjobs.co.uk</td>\n    </tr>\n    <tr>\n      <th>12084</th>\n      <td>70175965</td>\n      <td>Digital Delivery Usability and Accessibility M...</td>\n      <td>UK</td>\n      <td>Skills Funding Agency</td>\n      <td></td>\n      <td>permanent</td>\n      <td>IT Jobs</td>\n      <td>0.0</td>\n      <td>2013-10-26 15:00:00</td>\n      <td>2014-01-24 15:00:00</td>\n      <td>cwjobs.co.uk</td>\n    </tr>\n    <tr>\n      <th>12098</th>\n      <td>66403563</td>\n      <td>Senior Java Developer  ServerSide</td>\n      <td>Newbury</td>\n      <td>RICHARD WHEELER ASSOCIATES</td>\n      <td></td>\n      <td>permanent</td>\n      <td>IT Jobs</td>\n      <td>0.0</td>\n      <td>2013-01-14 12:00:00</td>\n      <td>2013-02-13 12:00:00</td>\n      <td>cwjobs.co.uk</td>\n    </tr>\n  </tbody>\n</table>\n</div>"
     },
     "execution_count": 20,
     "metadata": {},
     "output_type": "execute_result"
    }
   ],
   "source": [
    "df[(df.Salary <= 0)].head(3)"
   ]
  },
  {
   "cell_type": "code",
   "execution_count": 21,
   "metadata": {
    "pycharm": {
     "name": "#%%\n"
    }
   },
   "outputs": [
    {
     "data": {
      "text/plain": "0.0    330\nName: Salary, dtype: int64"
     },
     "execution_count": 21,
     "metadata": {},
     "output_type": "execute_result"
    }
   ],
   "source": [
    "df.loc[df.Salary <= 0].Salary.value_counts()"
   ]
  },
  {
   "cell_type": "code",
   "execution_count": 22,
   "metadata": {
    "pycharm": {
     "name": "#%%\n"
    }
   },
   "outputs": [
    {
     "data": {
      "text/plain": "             Id                             Title  Location  \\\n28725  58532963     Mobile Applications Developer  Cheshire   \n31452  70013255  Registered General Nurse  London    London   \n\n                    Company ContractType ContractTime  \\\n28725  European Recruitment            -    permanent   \n31452         Appoint Group            -                \n\n                        Category      Salary   OpenDate  CloseDate  \\\n28725                    IT Jobs  10000000.0 2013-06-26 2013-08-25   \n31452  Healthcare & Nursing Jobs  10000000.0 2013-03-11 2013-05-10   \n\n              SourceName  \n28725  planetrecruit.com  \n31452     staffnurse.com  ",
      "text/html": "<div>\n<style scoped>\n    .dataframe tbody tr th:only-of-type {\n        vertical-align: middle;\n    }\n\n    .dataframe tbody tr th {\n        vertical-align: top;\n    }\n\n    .dataframe thead th {\n        text-align: right;\n    }\n</style>\n<table border=\"1\" class=\"dataframe\">\n  <thead>\n    <tr style=\"text-align: right;\">\n      <th></th>\n      <th>Id</th>\n      <th>Title</th>\n      <th>Location</th>\n      <th>Company</th>\n      <th>ContractType</th>\n      <th>ContractTime</th>\n      <th>Category</th>\n      <th>Salary</th>\n      <th>OpenDate</th>\n      <th>CloseDate</th>\n      <th>SourceName</th>\n    </tr>\n  </thead>\n  <tbody>\n    <tr>\n      <th>28725</th>\n      <td>58532963</td>\n      <td>Mobile Applications Developer</td>\n      <td>Cheshire</td>\n      <td>European Recruitment</td>\n      <td>-</td>\n      <td>permanent</td>\n      <td>IT Jobs</td>\n      <td>10000000.0</td>\n      <td>2013-06-26</td>\n      <td>2013-08-25</td>\n      <td>planetrecruit.com</td>\n    </tr>\n    <tr>\n      <th>31452</th>\n      <td>70013255</td>\n      <td>Registered General Nurse  London</td>\n      <td>London</td>\n      <td>Appoint Group</td>\n      <td>-</td>\n      <td></td>\n      <td>Healthcare &amp; Nursing Jobs</td>\n      <td>10000000.0</td>\n      <td>2013-03-11</td>\n      <td>2013-05-10</td>\n      <td>staffnurse.com</td>\n    </tr>\n  </tbody>\n</table>\n</div>"
     },
     "execution_count": 22,
     "metadata": {},
     "output_type": "execute_result"
    }
   ],
   "source": [
    "df[(df.Salary >= 10000000.0)]"
   ]
  },
  {
   "cell_type": "code",
   "execution_count": 23,
   "metadata": {
    "pycharm": {
     "name": "#%%\n"
    }
   },
   "outputs": [
    {
     "data": {
      "text/plain": "10000000.0    2\nName: Salary, dtype: int64"
     },
     "execution_count": 23,
     "metadata": {},
     "output_type": "execute_result"
    }
   ],
   "source": [
    "df.loc[df.Salary >= 10000000.0].Salary.value_counts()"
   ]
  },
  {
   "cell_type": "markdown",
   "metadata": {
    "pycharm": {
     "name": "#%% md\n"
    }
   },
   "source": [
    "### -----> OBSERVATION:\n",
    "\n",
    "+ Interestingly, there **330 observations** with 0 salary. Since we dont really have a value to indicates these jobs are volunteer, I will convert 0 to the median by location of the job\n",
    "\n",
    "+ Furthermore, 2 jobs with more than 10000000.0 annually might "
   ]
  },
  {
   "cell_type": "code",
   "execution_count": 24,
   "metadata": {
    "pycharm": {
     "name": "#%%\n"
    }
   },
   "outputs": [
    {
     "data": {
      "text/plain": "Location  ABERDEEN      Aberdeen  Aberdeenshire      Abingdon    Accrington  \\\ncount          1.0    253.000000      32.000000     63.000000     18.000000   \nmean       32500.0  33719.494071   37451.593750  37570.365079  34639.944444   \nstd            NaN  15094.984534   17470.702739  17840.406256  17951.246689   \nmin        32500.0   5088.000000   13440.000000   6000.000000   5472.000000   \n25%        32500.0  22500.000000   26125.000000  24800.000000  20250.000000   \n50%        32500.0  30000.000000   31000.000000  32000.000000  30503.000000   \n75%        32500.0  42500.000000   48500.000000  49647.000000  49500.000000   \nmax        32500.0  84000.000000   90000.000000  95000.000000  67500.000000   \n\nLocation    Addlestone      Alcester     Aldershot      Alfreton  \\\ncount        12.000000     10.000000     15.000000     17.000000   \nmean      36729.000000  29862.400000  25592.666667  30617.764706   \nstd       16592.864896  10782.036287  10695.991550  16757.063408   \nmin       19000.000000  12840.000000   9600.000000  12345.000000   \n25%       29000.000000  20875.000000  18500.000000  19500.000000   \n50%       32500.000000  30360.000000  22500.000000  26500.000000   \n75%       38925.000000  39375.000000  29900.000000  34999.000000   \nmax       83880.000000  43500.000000  50000.000000  80000.000000   \n\nLocation         Alton  ...  Worcestershire   Workington       Worksop  \\\ncount        11.000000  ...       49.000000     12.00000     13.000000   \nmean      31445.454545  ...    32283.040816  34788.50000  30338.461538   \nstd       11716.928235  ...    15241.841353  20206.93527  15968.547881   \nmin       16000.000000  ...    12550.000000   8533.00000  13708.000000   \n25%       22000.000000  ...    22000.000000  23983.75000  16000.000000   \n50%       30000.000000  ...    28000.000000  32000.00000  27000.000000   \n75%       39000.000000  ...    40000.000000  37248.50000  42432.000000   \nmax       49920.000000  ...    90000.000000  90000.00000  60000.000000   \n\nLocation      Worthing       Wrexham        Yeovil          York  \\\ncount        59.000000     19.000000     35.000000    180.000000   \nmean      35389.457627  30593.368421  28256.428571  30860.211111   \nstd       18533.270586  14048.766495  11811.307542  15251.784913   \nmin        6000.000000  11884.000000  11884.000000      0.000000   \n25%       21000.000000  23480.000000  18500.000000  21000.000000   \n50%       30000.000000  27500.000000  26500.000000  27250.000000   \n75%       46050.000000  34070.000000  35260.000000  37455.000000   \nmax       85000.000000  72500.000000  55000.000000  95000.000000   \n\nLocation  Yorkshire and Humberside    birmingham   london  \ncount                   132.000000      2.000000      1.0  \nmean                  37157.159091  37500.000000  25800.0  \nstd                   17102.687933   3535.533906      NaN  \nmin                       0.000000  35000.000000  25800.0  \n25%                   25000.000000  36250.000000  25800.0  \n50%                   35000.000000  37500.000000  25800.0  \n75%                   42675.000000  38750.000000  25800.0  \nmax                   90000.000000  40000.000000  25800.0  \n\n[8 rows x 496 columns]",
      "text/html": "<div>\n<style scoped>\n    .dataframe tbody tr th:only-of-type {\n        vertical-align: middle;\n    }\n\n    .dataframe tbody tr th {\n        vertical-align: top;\n    }\n\n    .dataframe thead th {\n        text-align: right;\n    }\n</style>\n<table border=\"1\" class=\"dataframe\">\n  <thead>\n    <tr style=\"text-align: right;\">\n      <th>Location</th>\n      <th>ABERDEEN</th>\n      <th>Aberdeen</th>\n      <th>Aberdeenshire</th>\n      <th>Abingdon</th>\n      <th>Accrington</th>\n      <th>Addlestone</th>\n      <th>Alcester</th>\n      <th>Aldershot</th>\n      <th>Alfreton</th>\n      <th>Alton</th>\n      <th>...</th>\n      <th>Worcestershire</th>\n      <th>Workington</th>\n      <th>Worksop</th>\n      <th>Worthing</th>\n      <th>Wrexham</th>\n      <th>Yeovil</th>\n      <th>York</th>\n      <th>Yorkshire and Humberside</th>\n      <th>birmingham</th>\n      <th>london</th>\n    </tr>\n  </thead>\n  <tbody>\n    <tr>\n      <th>count</th>\n      <td>1.0</td>\n      <td>253.000000</td>\n      <td>32.000000</td>\n      <td>63.000000</td>\n      <td>18.000000</td>\n      <td>12.000000</td>\n      <td>10.000000</td>\n      <td>15.000000</td>\n      <td>17.000000</td>\n      <td>11.000000</td>\n      <td>...</td>\n      <td>49.000000</td>\n      <td>12.00000</td>\n      <td>13.000000</td>\n      <td>59.000000</td>\n      <td>19.000000</td>\n      <td>35.000000</td>\n      <td>180.000000</td>\n      <td>132.000000</td>\n      <td>2.000000</td>\n      <td>1.0</td>\n    </tr>\n    <tr>\n      <th>mean</th>\n      <td>32500.0</td>\n      <td>33719.494071</td>\n      <td>37451.593750</td>\n      <td>37570.365079</td>\n      <td>34639.944444</td>\n      <td>36729.000000</td>\n      <td>29862.400000</td>\n      <td>25592.666667</td>\n      <td>30617.764706</td>\n      <td>31445.454545</td>\n      <td>...</td>\n      <td>32283.040816</td>\n      <td>34788.50000</td>\n      <td>30338.461538</td>\n      <td>35389.457627</td>\n      <td>30593.368421</td>\n      <td>28256.428571</td>\n      <td>30860.211111</td>\n      <td>37157.159091</td>\n      <td>37500.000000</td>\n      <td>25800.0</td>\n    </tr>\n    <tr>\n      <th>std</th>\n      <td>NaN</td>\n      <td>15094.984534</td>\n      <td>17470.702739</td>\n      <td>17840.406256</td>\n      <td>17951.246689</td>\n      <td>16592.864896</td>\n      <td>10782.036287</td>\n      <td>10695.991550</td>\n      <td>16757.063408</td>\n      <td>11716.928235</td>\n      <td>...</td>\n      <td>15241.841353</td>\n      <td>20206.93527</td>\n      <td>15968.547881</td>\n      <td>18533.270586</td>\n      <td>14048.766495</td>\n      <td>11811.307542</td>\n      <td>15251.784913</td>\n      <td>17102.687933</td>\n      <td>3535.533906</td>\n      <td>NaN</td>\n    </tr>\n    <tr>\n      <th>min</th>\n      <td>32500.0</td>\n      <td>5088.000000</td>\n      <td>13440.000000</td>\n      <td>6000.000000</td>\n      <td>5472.000000</td>\n      <td>19000.000000</td>\n      <td>12840.000000</td>\n      <td>9600.000000</td>\n      <td>12345.000000</td>\n      <td>16000.000000</td>\n      <td>...</td>\n      <td>12550.000000</td>\n      <td>8533.00000</td>\n      <td>13708.000000</td>\n      <td>6000.000000</td>\n      <td>11884.000000</td>\n      <td>11884.000000</td>\n      <td>0.000000</td>\n      <td>0.000000</td>\n      <td>35000.000000</td>\n      <td>25800.0</td>\n    </tr>\n    <tr>\n      <th>25%</th>\n      <td>32500.0</td>\n      <td>22500.000000</td>\n      <td>26125.000000</td>\n      <td>24800.000000</td>\n      <td>20250.000000</td>\n      <td>29000.000000</td>\n      <td>20875.000000</td>\n      <td>18500.000000</td>\n      <td>19500.000000</td>\n      <td>22000.000000</td>\n      <td>...</td>\n      <td>22000.000000</td>\n      <td>23983.75000</td>\n      <td>16000.000000</td>\n      <td>21000.000000</td>\n      <td>23480.000000</td>\n      <td>18500.000000</td>\n      <td>21000.000000</td>\n      <td>25000.000000</td>\n      <td>36250.000000</td>\n      <td>25800.0</td>\n    </tr>\n    <tr>\n      <th>50%</th>\n      <td>32500.0</td>\n      <td>30000.000000</td>\n      <td>31000.000000</td>\n      <td>32000.000000</td>\n      <td>30503.000000</td>\n      <td>32500.000000</td>\n      <td>30360.000000</td>\n      <td>22500.000000</td>\n      <td>26500.000000</td>\n      <td>30000.000000</td>\n      <td>...</td>\n      <td>28000.000000</td>\n      <td>32000.00000</td>\n      <td>27000.000000</td>\n      <td>30000.000000</td>\n      <td>27500.000000</td>\n      <td>26500.000000</td>\n      <td>27250.000000</td>\n      <td>35000.000000</td>\n      <td>37500.000000</td>\n      <td>25800.0</td>\n    </tr>\n    <tr>\n      <th>75%</th>\n      <td>32500.0</td>\n      <td>42500.000000</td>\n      <td>48500.000000</td>\n      <td>49647.000000</td>\n      <td>49500.000000</td>\n      <td>38925.000000</td>\n      <td>39375.000000</td>\n      <td>29900.000000</td>\n      <td>34999.000000</td>\n      <td>39000.000000</td>\n      <td>...</td>\n      <td>40000.000000</td>\n      <td>37248.50000</td>\n      <td>42432.000000</td>\n      <td>46050.000000</td>\n      <td>34070.000000</td>\n      <td>35260.000000</td>\n      <td>37455.000000</td>\n      <td>42675.000000</td>\n      <td>38750.000000</td>\n      <td>25800.0</td>\n    </tr>\n    <tr>\n      <th>max</th>\n      <td>32500.0</td>\n      <td>84000.000000</td>\n      <td>90000.000000</td>\n      <td>95000.000000</td>\n      <td>67500.000000</td>\n      <td>83880.000000</td>\n      <td>43500.000000</td>\n      <td>50000.000000</td>\n      <td>80000.000000</td>\n      <td>49920.000000</td>\n      <td>...</td>\n      <td>90000.000000</td>\n      <td>90000.00000</td>\n      <td>60000.000000</td>\n      <td>85000.000000</td>\n      <td>72500.000000</td>\n      <td>55000.000000</td>\n      <td>95000.000000</td>\n      <td>90000.000000</td>\n      <td>40000.000000</td>\n      <td>25800.0</td>\n    </tr>\n  </tbody>\n</table>\n<p>8 rows × 496 columns</p>\n</div>"
     },
     "execution_count": 24,
     "metadata": {},
     "output_type": "execute_result"
    }
   ],
   "source": [
    "df['Salary'].groupby(df['Location']).describe().T"
   ]
  },
  {
   "cell_type": "code",
   "execution_count": 25,
   "metadata": {
    "pycharm": {
     "name": "#%%\n"
    }
   },
   "outputs": [
    {
     "data": {
      "text/plain": "UK                        413\nLondon                    309\nSouth East London         133\nThe City                   61\nManchester                 44\n                         ... \nSt. Neots                   1\nLetchworth Garden City      1\nRichmond                    1\nHaywards Heath              1\nRochdale                    1\nName: Location, Length: 373, dtype: int64"
     },
     "execution_count": 25,
     "metadata": {},
     "output_type": "execute_result"
    }
   ],
   "source": [
    "df[df['Salary'].isnull()].Location.value_counts()"
   ]
  },
  {
   "cell_type": "code",
   "execution_count": 26,
   "metadata": {
    "pycharm": {
     "name": "#%%\n"
    }
   },
   "outputs": [
    {
     "data": {
      "text/plain": "Int64Index([12082, 12084, 12098, 12148, 12155, 12204, 12210, 12213, 12234,\n            12244,\n            ...\n            47833, 48314, 48350, 48389, 49762, 49769, 49811, 50139, 50143,\n            50166],\n           dtype='int64', length=332)"
     },
     "execution_count": 26,
     "metadata": {},
     "output_type": "execute_result"
    }
   ],
   "source": [
    "condition = (df['Salary'] >= 10000000.0) | (df['Salary'] <= 0)\n",
    "applies_indices = indices[condition]\n",
    "applies_indices"
   ]
  },
  {
   "cell_type": "code",
   "execution_count": 27,
   "metadata": {
    "pycharm": {
     "name": "#%%\n"
    }
   },
   "outputs": [
    {
     "data": {
      "text/plain": "    indexOfdf        Id ColumnName         Original         Modified  \\\n0       14577  71198154   OpenDate  20132309T000000  20130923T000000   \n1         All       All        All               NA               NA   \n2       12082  69043447     Salary              0.0              NaN   \n3       12084  70175965     Salary              0.0              NaN   \n4       12098  66403563     Salary              0.0              NaN   \n..        ...       ...        ...              ...              ...   \n329     49769  67802688     Salary              0.0              NaN   \n330     49811  67804100     Salary              0.0              NaN   \n331     50139  71292058     Salary              0.0              NaN   \n332     50143  67774760     Salary              0.0              NaN   \n333     50166  71292089     Salary              0.0              NaN   \n\n                                   ErrorType  \\\n0                          Wrong Date Format   \n1    Parse all columns into requuired format   \n2                                   Outliers   \n3                                   Outliers   \n4                                   Outliers   \n..                                       ...   \n329                                 Outliers   \n330                                 Outliers   \n331                                 Outliers   \n332                                 Outliers   \n333                                 Outliers   \n\n                                                Fixing  \n0                 Change the location of day and month  \n1    Convert to appropriate int, float, and datetim...  \n2                                       Change to null  \n3                                       Change to null  \n4                                       Change to null  \n..                                                 ...  \n329                                     Change to null  \n330                                     Change to null  \n331                                     Change to null  \n332                                     Change to null  \n333                                     Change to null  \n\n[334 rows x 7 columns]",
      "text/html": "<div>\n<style scoped>\n    .dataframe tbody tr th:only-of-type {\n        vertical-align: middle;\n    }\n\n    .dataframe tbody tr th {\n        vertical-align: top;\n    }\n\n    .dataframe thead th {\n        text-align: right;\n    }\n</style>\n<table border=\"1\" class=\"dataframe\">\n  <thead>\n    <tr style=\"text-align: right;\">\n      <th></th>\n      <th>indexOfdf</th>\n      <th>Id</th>\n      <th>ColumnName</th>\n      <th>Original</th>\n      <th>Modified</th>\n      <th>ErrorType</th>\n      <th>Fixing</th>\n    </tr>\n  </thead>\n  <tbody>\n    <tr>\n      <th>0</th>\n      <td>14577</td>\n      <td>71198154</td>\n      <td>OpenDate</td>\n      <td>20132309T000000</td>\n      <td>20130923T000000</td>\n      <td>Wrong Date Format</td>\n      <td>Change the location of day and month</td>\n    </tr>\n    <tr>\n      <th>1</th>\n      <td>All</td>\n      <td>All</td>\n      <td>All</td>\n      <td>NA</td>\n      <td>NA</td>\n      <td>Parse all columns into requuired format</td>\n      <td>Convert to appropriate int, float, and datetim...</td>\n    </tr>\n    <tr>\n      <th>2</th>\n      <td>12082</td>\n      <td>69043447</td>\n      <td>Salary</td>\n      <td>0.0</td>\n      <td>NaN</td>\n      <td>Outliers</td>\n      <td>Change to null</td>\n    </tr>\n    <tr>\n      <th>3</th>\n      <td>12084</td>\n      <td>70175965</td>\n      <td>Salary</td>\n      <td>0.0</td>\n      <td>NaN</td>\n      <td>Outliers</td>\n      <td>Change to null</td>\n    </tr>\n    <tr>\n      <th>4</th>\n      <td>12098</td>\n      <td>66403563</td>\n      <td>Salary</td>\n      <td>0.0</td>\n      <td>NaN</td>\n      <td>Outliers</td>\n      <td>Change to null</td>\n    </tr>\n    <tr>\n      <th>...</th>\n      <td>...</td>\n      <td>...</td>\n      <td>...</td>\n      <td>...</td>\n      <td>...</td>\n      <td>...</td>\n      <td>...</td>\n    </tr>\n    <tr>\n      <th>329</th>\n      <td>49769</td>\n      <td>67802688</td>\n      <td>Salary</td>\n      <td>0.0</td>\n      <td>NaN</td>\n      <td>Outliers</td>\n      <td>Change to null</td>\n    </tr>\n    <tr>\n      <th>330</th>\n      <td>49811</td>\n      <td>67804100</td>\n      <td>Salary</td>\n      <td>0.0</td>\n      <td>NaN</td>\n      <td>Outliers</td>\n      <td>Change to null</td>\n    </tr>\n    <tr>\n      <th>331</th>\n      <td>50139</td>\n      <td>71292058</td>\n      <td>Salary</td>\n      <td>0.0</td>\n      <td>NaN</td>\n      <td>Outliers</td>\n      <td>Change to null</td>\n    </tr>\n    <tr>\n      <th>332</th>\n      <td>50143</td>\n      <td>67774760</td>\n      <td>Salary</td>\n      <td>0.0</td>\n      <td>NaN</td>\n      <td>Outliers</td>\n      <td>Change to null</td>\n    </tr>\n    <tr>\n      <th>333</th>\n      <td>50166</td>\n      <td>71292089</td>\n      <td>Salary</td>\n      <td>0.0</td>\n      <td>NaN</td>\n      <td>Outliers</td>\n      <td>Change to null</td>\n    </tr>\n  </tbody>\n</table>\n<p>334 rows × 7 columns</p>\n</div>"
     },
     "execution_count": 27,
     "metadata": {},
     "output_type": "execute_result"
    }
   ],
   "source": [
    "# update error_list\n",
    "for ind in applies_indices:\n",
    "    update_error_list(ind, df.loc[ind,'Id'], 'Salary', df.loc[ind,'Salary'], 'NaN', 'Outliers',\"Change to null\") \n",
    "error_list"
   ]
  },
  {
   "cell_type": "code",
   "execution_count": 28,
   "metadata": {
    "pycharm": {
     "name": "#%%\n"
    }
   },
   "outputs": [],
   "source": [
    "# covert outliers to Null values\n",
    "df.loc[condition,\"Salary\"] = np.nan"
   ]
  },
  {
   "cell_type": "markdown",
   "metadata": {
    "pycharm": {
     "name": "#%% md\n"
    }
   },
   "source": [
    "### Impute missing value in numerical column"
   ]
  },
  {
   "cell_type": "code",
   "execution_count": 29,
   "metadata": {
    "pycharm": {
     "name": "#%%\n"
    }
   },
   "outputs": [
    {
     "data": {
      "text/plain": "count     50753.000000\nmean      34331.278309\nstd       15520.894623\nmin        5000.000000\n25%       23500.000000\n50%       31500.000000\n75%       42000.000000\nmax      116951.000000\nName: Salary_filled, dtype: float64"
     },
     "execution_count": 29,
     "metadata": {},
     "output_type": "execute_result"
    }
   ],
   "source": [
    "df['Salary_filled'] = df['Salary'].fillna(df.groupby(\"Location\")[\"Salary\"].transform(\"median\"))\n",
    "df.Salary_filled.describe()"
   ]
  },
  {
   "cell_type": "code",
   "execution_count": 30,
   "metadata": {
    "pycharm": {
     "name": "#%%\n"
    }
   },
   "outputs": [
    {
     "data": {
      "text/plain": "     indexOfdf        Id ColumnName Original Modified      ErrorType  \\\n3290     50750  69090081     Salary      NaN  35000.0  Missing Value   \n3291     50751  70139229     Salary      NaN  31500.0  Missing Value   \n3292     50752  66372417     Salary      NaN  32500.0  Missing Value   \n\n                                                 Fixing  \n3290  Imputed with the median value of the correspon...  \n3291  Imputed with the median value of the correspon...  \n3292  Imputed with the median value of the correspon...  ",
      "text/html": "<div>\n<style scoped>\n    .dataframe tbody tr th:only-of-type {\n        vertical-align: middle;\n    }\n\n    .dataframe tbody tr th {\n        vertical-align: top;\n    }\n\n    .dataframe thead th {\n        text-align: right;\n    }\n</style>\n<table border=\"1\" class=\"dataframe\">\n  <thead>\n    <tr style=\"text-align: right;\">\n      <th></th>\n      <th>indexOfdf</th>\n      <th>Id</th>\n      <th>ColumnName</th>\n      <th>Original</th>\n      <th>Modified</th>\n      <th>ErrorType</th>\n      <th>Fixing</th>\n    </tr>\n  </thead>\n  <tbody>\n    <tr>\n      <th>3290</th>\n      <td>50750</td>\n      <td>69090081</td>\n      <td>Salary</td>\n      <td>NaN</td>\n      <td>35000.0</td>\n      <td>Missing Value</td>\n      <td>Imputed with the median value of the correspon...</td>\n    </tr>\n    <tr>\n      <th>3291</th>\n      <td>50751</td>\n      <td>70139229</td>\n      <td>Salary</td>\n      <td>NaN</td>\n      <td>31500.0</td>\n      <td>Missing Value</td>\n      <td>Imputed with the median value of the correspon...</td>\n    </tr>\n    <tr>\n      <th>3292</th>\n      <td>50752</td>\n      <td>66372417</td>\n      <td>Salary</td>\n      <td>NaN</td>\n      <td>32500.0</td>\n      <td>Missing Value</td>\n      <td>Imputed with the median value of the correspon...</td>\n    </tr>\n  </tbody>\n</table>\n</div>"
     },
     "execution_count": 30,
     "metadata": {},
     "output_type": "execute_result"
    }
   ],
   "source": [
    "# retrive the indices \n",
    "condition = df['Salary'].isnull()\n",
    "applies_indices = indices[condition]\n",
    "\n",
    "# update erlist\n",
    "for ind in applies_indices:\n",
    "    update_error_list(ind, df.loc[ind,'Id'], 'Salary', 'NaN', df.loc[ind,'Salary_filled'], 'Missing Value',\"Imputed with the median value of the corresponding `Location` group.\")\n",
    "\n",
    "error_list.tail(3)"
   ]
  },
  {
   "cell_type": "code",
   "execution_count": 31,
   "metadata": {
    "pycharm": {
     "name": "#%%\n"
    }
   },
   "outputs": [
    {
     "data": {
      "text/plain": "         Id                               Title           Location  \\\n0  67378957   Pastry Sous Chef, Five Star Hotel  South East London   \n1  69470006            Deputy Manager Leicester          Leicester   \n2  70146250  General Manager Brighton Nightclub           Brighton   \n\n                                             Company ContractType  \\\n0                                             SpaYse            -   \n1                              Cherryred Recruitment            -   \n2  Appetite4Recruitment   High End Restaurants, P...            -   \n\n  ContractTime                     Category            OpenDate  \\\n0            -  Hospitality & Catering Jobs 2012-08-22 00:00:00   \n1            -  Hospitality & Catering Jobs 2012-10-23 15:00:00   \n2            -  Hospitality & Catering Jobs 2013-10-22 15:00:00   \n\n            CloseDate   SourceName   Salary  \n0 2012-10-21 00:00:00  caterer.com  35000.0  \n1 2012-11-06 15:00:00  caterer.com  26000.0  \n2 2013-12-21 15:00:00  caterer.com  31000.0  ",
      "text/html": "<div>\n<style scoped>\n    .dataframe tbody tr th:only-of-type {\n        vertical-align: middle;\n    }\n\n    .dataframe tbody tr th {\n        vertical-align: top;\n    }\n\n    .dataframe thead th {\n        text-align: right;\n    }\n</style>\n<table border=\"1\" class=\"dataframe\">\n  <thead>\n    <tr style=\"text-align: right;\">\n      <th></th>\n      <th>Id</th>\n      <th>Title</th>\n      <th>Location</th>\n      <th>Company</th>\n      <th>ContractType</th>\n      <th>ContractTime</th>\n      <th>Category</th>\n      <th>OpenDate</th>\n      <th>CloseDate</th>\n      <th>SourceName</th>\n      <th>Salary</th>\n    </tr>\n  </thead>\n  <tbody>\n    <tr>\n      <th>0</th>\n      <td>67378957</td>\n      <td>Pastry Sous Chef, Five Star Hotel</td>\n      <td>South East London</td>\n      <td>SpaYse</td>\n      <td>-</td>\n      <td>-</td>\n      <td>Hospitality &amp; Catering Jobs</td>\n      <td>2012-08-22 00:00:00</td>\n      <td>2012-10-21 00:00:00</td>\n      <td>caterer.com</td>\n      <td>35000.0</td>\n    </tr>\n    <tr>\n      <th>1</th>\n      <td>69470006</td>\n      <td>Deputy Manager Leicester</td>\n      <td>Leicester</td>\n      <td>Cherryred Recruitment</td>\n      <td>-</td>\n      <td>-</td>\n      <td>Hospitality &amp; Catering Jobs</td>\n      <td>2012-10-23 15:00:00</td>\n      <td>2012-11-06 15:00:00</td>\n      <td>caterer.com</td>\n      <td>26000.0</td>\n    </tr>\n    <tr>\n      <th>2</th>\n      <td>70146250</td>\n      <td>General Manager Brighton Nightclub</td>\n      <td>Brighton</td>\n      <td>Appetite4Recruitment   High End Restaurants, P...</td>\n      <td>-</td>\n      <td>-</td>\n      <td>Hospitality &amp; Catering Jobs</td>\n      <td>2013-10-22 15:00:00</td>\n      <td>2013-12-21 15:00:00</td>\n      <td>caterer.com</td>\n      <td>31000.0</td>\n    </tr>\n  </tbody>\n</table>\n</div>"
     },
     "execution_count": 31,
     "metadata": {},
     "output_type": "execute_result"
    }
   ],
   "source": [
    "# Drop the Salary column and change the age_filled column to age \n",
    "df.drop('Salary', axis=1, inplace=True)\n",
    "df.rename(columns={'Salary_filled': 'Salary'}, inplace=True)\n",
    "df.head(3)"
   ]
  },
  {
   "cell_type": "code",
   "execution_count": 32,
   "metadata": {
    "pycharm": {
     "name": "#%%\n"
    }
   },
   "outputs": [
    {
     "data": {
      "text/plain": "<AxesSubplot:>"
     },
     "execution_count": 32,
     "metadata": {},
     "output_type": "execute_result"
    },
    {
     "data": {
      "text/plain": "<Figure size 1080x360 with 1 Axes>",
      "image/png": "[encoded data removed]"
     },
     "metadata": {},
     "output_type": "display_data"
    }
   ],
   "source": [
    "# boxplot after removing outliers\n",
    "plt.figure(figsize= (15,5))\n",
    "sns.boxplot(data=df.Salary,orient=\"h\",color=\"pink\")"
   ]
  },
  {
   "cell_type": "markdown",
   "metadata": {
    "pycharm": {
     "name": "#%% md\n"
    }
   },
   "source": [
    "# Inconsistency\n",
    "### Lower Case the content & Remove extra whitespace of the content\n",
    "+ Convert all the string values in the categorical column to lowercase to keep all the string uniformly format to perform any function related to the string.\n",
    "+ XML does not truncate multiple white-spaces (HTML truncates multiple white-spaces to one single white-space)"
   ]
  },
  {
   "cell_type": "code",
   "execution_count": 33,
   "metadata": {
    "pycharm": {
     "name": "#%%\n"
    }
   },
   "outputs": [
    {
     "data": {
      "text/plain": "     indexOfdf        Id                                         ColumnName  \\\n3291     50751  70139229                                             Salary   \n3292     50752  66372417                                             Salary   \n3293       All       All  [Title, Location, Company, ContractType, Contr...   \n\n                                           Original  \\\n3291                                            NaN   \n3292                                            NaN   \n3293  Capitalize words, leading and trailing spaces   \n\n                            Modified      ErrorType  \\\n3291                         31500.0  Missing Value   \n3292                         32500.0  Missing Value   \n3293  lowercase all, no extra spaces  Syntax Errors   \n\n                                                 Fixing  \n3291  Imputed with the median value of the correspon...  \n3292  Imputed with the median value of the correspon...  \n3293  Convert all the string values to lowercase and...  ",
      "text/html": "<div>\n<style scoped>\n    .dataframe tbody tr th:only-of-type {\n        vertical-align: middle;\n    }\n\n    .dataframe tbody tr th {\n        vertical-align: top;\n    }\n\n    .dataframe thead th {\n        text-align: right;\n    }\n</style>\n<table border=\"1\" class=\"dataframe\">\n  <thead>\n    <tr style=\"text-align: right;\">\n      <th></th>\n      <th>indexOfdf</th>\n      <th>Id</th>\n      <th>ColumnName</th>\n      <th>Original</th>\n      <th>Modified</th>\n      <th>ErrorType</th>\n      <th>Fixing</th>\n    </tr>\n  </thead>\n  <tbody>\n    <tr>\n      <th>3291</th>\n      <td>50751</td>\n      <td>70139229</td>\n      <td>Salary</td>\n      <td>NaN</td>\n      <td>31500.0</td>\n      <td>Missing Value</td>\n      <td>Imputed with the median value of the correspon...</td>\n    </tr>\n    <tr>\n      <th>3292</th>\n      <td>50752</td>\n      <td>66372417</td>\n      <td>Salary</td>\n      <td>NaN</td>\n      <td>32500.0</td>\n      <td>Missing Value</td>\n      <td>Imputed with the median value of the correspon...</td>\n    </tr>\n    <tr>\n      <th>3293</th>\n      <td>All</td>\n      <td>All</td>\n      <td>[Title, Location, Company, ContractType, Contr...</td>\n      <td>Capitalize words, leading and trailing spaces</td>\n      <td>lowercase all, no extra spaces</td>\n      <td>Syntax Errors</td>\n      <td>Convert all the string values to lowercase and...</td>\n    </tr>\n  </tbody>\n</table>\n</div>"
     },
     "execution_count": 33,
     "metadata": {},
     "output_type": "execute_result"
    }
   ],
   "source": [
    "# select non-numeric columns\n",
    "df_string = ['Title', 'Location', 'Company', 'ContractType', 'ContractTime', 'Category', 'SourceName']\n",
    "        \n",
    "update_error_list('All', 'All', df_string, 'Capitalize words, leading and trailing spaces', 'lowercase all, no extra spaces', 'Syntax Errors', 'Convert all the string values to lowercase and remove leading, trailiing spaces') \n",
    "\n",
    "# convert all string to lowercase and strip trailing and leading spaces\n",
    "df = df.convert_dtypes().applymap(lambda s: s.lower().strip() if type(s) == str else s)  \n",
    "\n",
    "error_list.tail(3)"
   ]
  },
  {
   "cell_type": "code",
   "execution_count": 34,
   "metadata": {
    "pycharm": {
     "name": "#%%\n"
    }
   },
   "outputs": [
    {
     "name": "stdout",
     "output_type": "stream",
     "text": [
      "NUMBER OF CATEGORIES: 8; \n",
      "\n",
      "UNIQUE NAMES OF THE CATEGORIES ['hospitality & catering jobs' 'sales jobs' 'accounting & finance jobs'\n",
      " 'engineering jobs' 'pr, advertising & marketing jobs' 'it jobs'\n",
      " 'teaching jobs' 'healthcare & nursing jobs']\n",
      "\n",
      "\n",
      "\n"
     ]
    }
   ],
   "source": [
    "# There are 8 categories which satisfied the requirement\n",
    "print(f'NUMBER OF CATEGORIES: {df.Category.nunique()}; \\n\\nUNIQUE NAMES OF THE CATEGORIES {df.Category.unique()}\\n\\n\\n')"
   ]
  },
  {
   "cell_type": "code",
   "execution_count": 35,
   "metadata": {
    "pycharm": {
     "name": "#%%\n"
    }
   },
   "outputs": [
    {
     "name": "stdout",
     "output_type": "stream",
     "text": [
      "NUMBER OF CATEGORIES: 50749; \n",
      "\n",
      "UNIQUE NAMES OF THE CATEGORIES quality assurance/software testers                  2\n",
      "optometrist  4 days a week                          2\n",
      "lecturer b (business & law)                         2\n",
      "planning policy & economic development manager      2\n",
      "pastry sous chef, five star hotel                   1\n",
      "                                                   ..\n",
      "water hygiene fitter / plumber  hampshire           1\n",
      "ta administrator – service delivery support         1\n",
      "global risk director of hr                          1\n",
      "senior change consultant  retail pricing  london    1\n",
      "graduate engineer (water industry)                  1\n",
      "Name: Title, Length: 50749, dtype: int64\n",
      "\n"
     ]
    }
   ],
   "source": [
    "print(f'NUMBER OF CATEGORIES: {df.Title.nunique()}; \\n\\nUNIQUE NAMES OF THE CATEGORIES {df.Title.value_counts()}\\n')"
   ]
  },
  {
   "cell_type": "code",
   "execution_count": 36,
   "metadata": {
    "pycharm": {
     "name": "#%%\n"
    }
   },
   "outputs": [
    {
     "name": "stdout",
     "output_type": "stream",
     "text": [
      "NUMBER OF CATEGORIES: 488; \n",
      "\n",
      "UNIQUE NAMES OF THE CATEGORIES uk                   7700\n",
      "london               6563\n",
      "south east london    2728\n",
      "the city             1165\n",
      "central london        825\n",
      "                     ... \n",
      "cembridge               2\n",
      "londn                   2\n",
      "leads                   1\n",
      "warringtn               1\n",
      "livepool                1\n",
      "Name: Location, Length: 488, dtype: int64\n",
      "\n"
     ]
    }
   ],
   "source": [
    "print(f'NUMBER OF CATEGORIES: {df.Location.nunique()}; \\n\\nUNIQUE NAMES OF THE CATEGORIES {df.Location.value_counts()}\\n')"
   ]
  },
  {
   "cell_type": "markdown",
   "metadata": {
    "pycharm": {
     "name": "#%% md\n"
    }
   },
   "source": [
    "### Replace the values with the same meaning and different names\n",
    "I am not that familiar with the suburb names, so I'll find the best matching suburb names using the `difflib` library."
   ]
  },
  {
   "cell_type": "code",
   "execution_count": 37,
   "metadata": {
    "pycharm": {
     "name": "#%%\n"
    }
   },
   "outputs": [
    {
     "data": {
      "text/plain": "['london']"
     },
     "execution_count": 37,
     "metadata": {},
     "output_type": "execute_result"
    }
   ],
   "source": [
    "import difflib\n",
    "\n",
    "# finding the best match from the rest of all suburb names, with a specific threshold .85\n",
    "# you can gradually lower the threshod if there is no matching\n",
    "difflib.get_close_matches('londn',set(df['Location']).difference(['londn']), n = 1,cutoff=0.85) "
   ]
  },
  {
   "cell_type": "code",
   "execution_count": 38,
   "metadata": {
    "pycharm": {
     "name": "#%%\n"
    }
   },
   "outputs": [
    {
     "data": {
      "text/plain": "['hampshire']"
     },
     "execution_count": 38,
     "metadata": {},
     "output_type": "execute_result"
    }
   ],
   "source": [
    "difflib.get_close_matches('hampshira',set(df['Location']).difference(['hampshira']), n = 1,cutoff=0.8) "
   ]
  },
  {
   "cell_type": "code",
   "execution_count": 39,
   "metadata": {
    "pycharm": {
     "name": "#%%\n"
    }
   },
   "outputs": [
    {
     "data": {
      "text/plain": "['oxford']"
     },
     "execution_count": 39,
     "metadata": {},
     "output_type": "execute_result"
    }
   ],
   "source": [
    "difflib.get_close_matches('oxfords',set(df['Location']).difference(['oxfords']), n = 1,cutoff=0.8) "
   ]
  },
  {
   "cell_type": "code",
   "execution_count": 40,
   "metadata": {
    "pycharm": {
     "name": "#%%\n"
    }
   },
   "outputs": [
    {
     "data": {
      "text/plain": "['croydon']"
     },
     "execution_count": 40,
     "metadata": {},
     "output_type": "execute_result"
    }
   ],
   "source": [
    "difflib.get_close_matches('croydan',set(df['Location']).difference(['croydan']), n = 1,cutoff=0.8) "
   ]
  },
  {
   "cell_type": "code",
   "execution_count": 41,
   "metadata": {
    "pycharm": {
     "name": "#%%\n"
    }
   },
   "outputs": [
    {
     "data": {
      "text/plain": "['manchester']"
     },
     "execution_count": 41,
     "metadata": {},
     "output_type": "execute_result"
    }
   ],
   "source": [
    "difflib.get_close_matches('manchaster',set(df['Location']).difference(['manchaster']), n = 1,cutoff=0.8) "
   ]
  },
  {
   "cell_type": "code",
   "execution_count": 42,
   "metadata": {
    "pycharm": {
     "name": "#%%\n"
    }
   },
   "outputs": [
    {
     "data": {
      "text/plain": "['cambridge']"
     },
     "execution_count": 42,
     "metadata": {},
     "output_type": "execute_result"
    }
   ],
   "source": [
    "difflib.get_close_matches('cembridge',set(df['Location']).difference(['cembridge']), n = 1,cutoff=0.8) "
   ]
  },
  {
   "cell_type": "code",
   "execution_count": 43,
   "metadata": {
    "pycharm": {
     "name": "#%%\n"
    }
   },
   "outputs": [
    {
     "data": {
      "text/plain": "['leeds']"
     },
     "execution_count": 43,
     "metadata": {},
     "output_type": "execute_result"
    }
   ],
   "source": [
    "difflib.get_close_matches('leads',set(df['Location']).difference(['leads']), n = 1,cutoff=0.8) "
   ]
  },
  {
   "cell_type": "code",
   "execution_count": 44,
   "metadata": {
    "pycharm": {
     "name": "#%%\n"
    }
   },
   "outputs": [
    {
     "data": {
      "text/plain": "['warrington']"
     },
     "execution_count": 44,
     "metadata": {},
     "output_type": "execute_result"
    }
   ],
   "source": [
    "difflib.get_close_matches('warringtn',set(df['Location']).difference(['warringtn']), n = 1,cutoff=0.8) "
   ]
  },
  {
   "cell_type": "code",
   "execution_count": 45,
   "metadata": {
    "pycharm": {
     "name": "#%%\n"
    }
   },
   "outputs": [
    {
     "data": {
      "text/plain": "['liverpool']"
     },
     "execution_count": 45,
     "metadata": {},
     "output_type": "execute_result"
    }
   ],
   "source": [
    "difflib.get_close_matches('livepool',set(df['Location']).difference(['livepool']), n = 1,cutoff=0.8) "
   ]
  },
  {
   "cell_type": "code",
   "execution_count": 46,
   "metadata": {
    "pycharm": {
     "name": "#%%\n"
    }
   },
   "outputs": [
    {
     "data": {
      "text/plain": "     indexOfdf        Id ColumnName    Original    Modified    ErrorType  \\\n3306     27779  70205501   Location     croydan     croydon  Misspelling   \n3307     34598  68544641   Location  manchaster  manchester  Misspelling   \n3308     35912  69164026   Location  manchaster  manchester  Misspelling   \n\n           Fixing  \n3306  Change typo  \n3307  Change typo  \n3308  Change typo  ",
      "text/html": "<div>\n<style scoped>\n    .dataframe tbody tr th:only-of-type {\n        vertical-align: middle;\n    }\n\n    .dataframe tbody tr th {\n        vertical-align: top;\n    }\n\n    .dataframe thead th {\n        text-align: right;\n    }\n</style>\n<table border=\"1\" class=\"dataframe\">\n  <thead>\n    <tr style=\"text-align: right;\">\n      <th></th>\n      <th>indexOfdf</th>\n      <th>Id</th>\n      <th>ColumnName</th>\n      <th>Original</th>\n      <th>Modified</th>\n      <th>ErrorType</th>\n      <th>Fixing</th>\n    </tr>\n  </thead>\n  <tbody>\n    <tr>\n      <th>3306</th>\n      <td>27779</td>\n      <td>70205501</td>\n      <td>Location</td>\n      <td>croydan</td>\n      <td>croydon</td>\n      <td>Misspelling</td>\n      <td>Change typo</td>\n    </tr>\n    <tr>\n      <th>3307</th>\n      <td>34598</td>\n      <td>68544641</td>\n      <td>Location</td>\n      <td>manchaster</td>\n      <td>manchester</td>\n      <td>Misspelling</td>\n      <td>Change typo</td>\n    </tr>\n    <tr>\n      <th>3308</th>\n      <td>35912</td>\n      <td>69164026</td>\n      <td>Location</td>\n      <td>manchaster</td>\n      <td>manchester</td>\n      <td>Misspelling</td>\n      <td>Change typo</td>\n    </tr>\n  </tbody>\n</table>\n</div>"
     },
     "execution_count": 46,
     "metadata": {},
     "output_type": "execute_result"
    }
   ],
   "source": [
    "replace_dict = {'londn':'london', 'cembridge':'cambridge', 'hampshira':'hampshire', 'oxfords':'oxford', \n",
    "                'leads':'leeds', 'warringtn':'warrington','livepool':'liverpool', 'croydan':'croydon', \n",
    "                'manchaster':'manchester'}\n",
    "\n",
    "conditions = {key:df.Location == key for key in replace_dict.keys()} # conditions share the same key set as in replace_dict\n",
    "\n",
    "for key in conditions.keys():\n",
    "    applies_indices = indices[conditions[key]]\n",
    "    # update erlist\n",
    "    for ind in applies_indices:\n",
    "        update_error_list(ind, df.loc[ind,'Id'], 'Location', key, replace_dict[key], 'Misspelling',\"Change typo\")\n",
    "        \n",
    "error_list.tail(3)"
   ]
  },
  {
   "cell_type": "code",
   "execution_count": 47,
   "metadata": {
    "pycharm": {
     "name": "#%%\n"
    }
   },
   "outputs": [
    {
     "name": "stdout",
     "output_type": "stream",
     "text": [
      "NUMBER OF CATEGORIES: 479; \n",
      "\n",
      "UNIQUE NAMES OF THE CATEGORIES uk                    7700\n",
      "london                6565\n",
      "south east london     2728\n",
      "the city              1165\n",
      "central london         825\n",
      "                      ... \n",
      "canary wharf             9\n",
      "st. neots                8\n",
      "sutton-in-ashfield       7\n",
      "south brent              7\n",
      "north finchley           5\n",
      "Name: Location, Length: 479, dtype: int64\n",
      "\n"
     ]
    }
   ],
   "source": [
    "# Replace values in location\n",
    "df.Location.replace(replace_dict,inplace=True)\n",
    "print(f'NUMBER OF CATEGORIES: {df.Location.nunique()}; \\n\\nUNIQUE NAMES OF THE CATEGORIES {df.Location.value_counts()}\\n')"
   ]
  },
  {
   "cell_type": "code",
   "execution_count": 48,
   "metadata": {
    "pycharm": {
     "name": "#%%\n"
    }
   },
   "outputs": [
    {
     "name": "stdout",
     "output_type": "stream",
     "text": [
      "NUMBER OF CATEGORIES: 5; \n",
      "\n",
      "UNIQUE NAMES OF THE CATEGORIES ['-' 'permanent' 'contract' '' 'n/a' <NA>]\n",
      "\n",
      "\n",
      "\n"
     ]
    }
   ],
   "source": [
    "print(f'NUMBER OF CATEGORIES: {df.ContractTime.nunique()}; \\n\\nUNIQUE NAMES OF THE CATEGORIES {df.ContractTime.unique()}\\n\\n\\n')"
   ]
  },
  {
   "cell_type": "code",
   "execution_count": 49,
   "metadata": {
    "pycharm": {
     "name": "#%%\n"
    }
   },
   "outputs": [
    {
     "data": {
      "text/plain": "      indexOfdf        Id    ColumnName Original       Modified  \\\n15737     49011  69733658  ContractTime      n/a  non-specified   \n15738     49012  68844789  ContractTime      n/a  non-specified   \n15739     49039  69733905  ContractTime        -  non-specified   \n\n           ErrorType                              Fixing  \n15737  Inconsistency  Replace with 'non-specified' value  \n15738  Inconsistency  Replace with 'non-specified' value  \n15739  Inconsistency  Replace with 'non-specified' value  ",
      "text/html": "<div>\n<style scoped>\n    .dataframe tbody tr th:only-of-type {\n        vertical-align: middle;\n    }\n\n    .dataframe tbody tr th {\n        vertical-align: top;\n    }\n\n    .dataframe thead th {\n        text-align: right;\n    }\n</style>\n<table border=\"1\" class=\"dataframe\">\n  <thead>\n    <tr style=\"text-align: right;\">\n      <th></th>\n      <th>indexOfdf</th>\n      <th>Id</th>\n      <th>ColumnName</th>\n      <th>Original</th>\n      <th>Modified</th>\n      <th>ErrorType</th>\n      <th>Fixing</th>\n    </tr>\n  </thead>\n  <tbody>\n    <tr>\n      <th>15737</th>\n      <td>49011</td>\n      <td>69733658</td>\n      <td>ContractTime</td>\n      <td>n/a</td>\n      <td>non-specified</td>\n      <td>Inconsistency</td>\n      <td>Replace with 'non-specified' value</td>\n    </tr>\n    <tr>\n      <th>15738</th>\n      <td>49012</td>\n      <td>68844789</td>\n      <td>ContractTime</td>\n      <td>n/a</td>\n      <td>non-specified</td>\n      <td>Inconsistency</td>\n      <td>Replace with 'non-specified' value</td>\n    </tr>\n    <tr>\n      <th>15739</th>\n      <td>49039</td>\n      <td>69733905</td>\n      <td>ContractTime</td>\n      <td>-</td>\n      <td>non-specified</td>\n      <td>Inconsistency</td>\n      <td>Replace with 'non-specified' value</td>\n    </tr>\n  </tbody>\n</table>\n</div>"
     },
     "execution_count": 49,
     "metadata": {},
     "output_type": "execute_result"
    }
   ],
   "source": [
    "condition = (df['ContractTime'] == '-') | (df['ContractTime'] == 'n/a') | (df['ContractTime'] == '') \n",
    "applies_indices = indices[condition]\n",
    "\n",
    "# update erlist\n",
    "for ind in applies_indices:\n",
    "    update_error_list(ind, df.loc[ind,'Id'], 'ContractTime', df.loc[ind,'ContractTime'], 'non-specified', 'Inconsistency',\"Replace with 'non-specified' value\")\n",
    "\n",
    "error_list.tail(3)"
   ]
  },
  {
   "cell_type": "code",
   "execution_count": 50,
   "metadata": {
    "pycharm": {
     "name": "#%%\n"
    }
   },
   "outputs": [
    {
     "name": "stdout",
     "output_type": "stream",
     "text": [
      "NUMBER OF CATEGORIES: 3; \n",
      "\n",
      "UNIQUE NAMES OF THE CATEGORIES ['non-specified' 'permanent' 'contract' <NA>]\n",
      "\n",
      "\n",
      "\n"
     ]
    }
   ],
   "source": [
    "df.loc[df['ContractTime'] == '-', \"ContractTime\"] = \"non-specified\" # replacing all '-' with 'non-specified'\n",
    "df.loc[df['ContractTime'] == 'n/a', \"ContractTime\"] = \"non-specified\" # replacing all 'n/a' with 'non-specified'\n",
    "df.loc[df['ContractTime'] == '', \"ContractTime\"] = \"non-specified\" # replacing all ' ' with 'non-specified'\n",
    "\n",
    "# double check\n",
    "print(f'NUMBER OF CATEGORIES: {df.ContractTime.nunique()}; \\n\\nUNIQUE NAMES OF THE CATEGORIES {df.ContractTime.unique()}\\n\\n\\n')"
   ]
  },
  {
   "cell_type": "code",
   "execution_count": 51,
   "metadata": {
    "pycharm": {
     "name": "#%%\n"
    }
   },
   "outputs": [
    {
     "name": "stdout",
     "output_type": "stream",
     "text": [
      "NUMBER OF CATEGORIES: 5; \n",
      "\n",
      "UNIQUE NAMES OF THE CATEGORIES ['-' 'part_time' 'full_time' '' 'n/a' <NA>]\n",
      "\n",
      "\n",
      "\n"
     ]
    }
   ],
   "source": [
    "print(f'NUMBER OF CATEGORIES: {df.ContractType.nunique()}; \\n\\nUNIQUE NAMES OF THE CATEGORIES {df.ContractType.unique()}\\n\\n\\n')"
   ]
  },
  {
   "cell_type": "markdown",
   "metadata": {
    "pycharm": {
     "name": "#%% md\n"
    }
   },
   "source": [
    "### ------> OBSERVATION\n",
    "\n",
    "`ContractType` has the same problem as `ContractTime`, I'll do the same steps above in a code block"
   ]
  },
  {
   "cell_type": "code",
   "execution_count": 52,
   "metadata": {
    "pycharm": {
     "name": "#%%\n"
    }
   },
   "outputs": [
    {
     "name": "stdout",
     "output_type": "stream",
     "text": [
      "NUMBER OF CATEGORIES: 3; \n",
      "\n",
      "UNIQUE NAMES OF THE CATEGORIES ['non-specified' 'part_time' 'full_time' <NA>]\n",
      "\n",
      "\n",
      "\n"
     ]
    }
   ],
   "source": [
    "condition = (df['ContractType'] == '-') | (df['ContractType'] == 'n/a') | (df['ContractType'] == '') \n",
    "applies_indices = indices[condition]\n",
    "\n",
    "# update erlist\n",
    "for ind in applies_indices:\n",
    "    update_error_list(ind, df.loc[ind,'Id'], 'ContractType', df.loc[ind,'ContractType'], 'non-specified', 'Inconsistency',\"Replace with 'non-specified' value\")\n",
    "\n",
    "df.loc[df['ContractType'] == '-', \"ContractType\"] = \"non-specified\" # replacing all '-' with 'non-specified'\n",
    "df.loc[df['ContractType'] == 'n/a', \"ContractType\"] = \"non-specified\" # replacing all 'n/a' with 'non-specified'\n",
    "df.loc[df['ContractType'] == '', \"ContractType\"] = \"non-specified\" # replacing all '' with 'non-specified'\n",
    "\n",
    "print(f'NUMBER OF CATEGORIES: {df.ContractType.nunique()}; \\n\\nUNIQUE NAMES OF THE CATEGORIES {df.ContractType.unique()}\\n\\n\\n')"
   ]
  },
  {
   "cell_type": "markdown",
   "metadata": {
    "pycharm": {
     "name": "#%% md\n"
    }
   },
   "source": [
    "# Check & Impute missing values\n",
    "+ Print out number and percentage of missing value in each column\n",
    "+ Visualize present and absent value using `missingno` library"
   ]
  },
  {
   "cell_type": "code",
   "execution_count": 53,
   "metadata": {
    "pycharm": {
     "name": "#%%\n"
    }
   },
   "outputs": [
    {
     "name": "stdout",
     "output_type": "stream",
     "text": [
      "Missing values in the dataframe in descending: \n",
      "               Total  Percent\n",
      "ContractType  10632    20.95\n",
      "ContractTime   1703     3.36\n",
      "Company         873     1.72\n"
     ]
    },
    {
     "data": {
      "text/plain": "<Figure size 1800x720 with 2 Axes>",
      "image/png": "[encoded data removed]"
     },
     "metadata": {},
     "output_type": "display_data"
    }
   ],
   "source": [
    "def missing_percentage(df):\n",
    "    \"\"\"This function takes a DataFrame(df) as input and returns two columns, total missing values and total missing values percentage\"\"\"\n",
    "    total = df.isnull().sum().sort_values(ascending=False)[df.isnull().sum().sort_values(ascending=False) != 0]\n",
    "    percent = round(df.isnull().sum().sort_values(ascending=False) / len(df) * 100, 2)[\n",
    "        round(df.isnull().sum().sort_values(ascending=False) / len(df) * 100, 2) != 0]\n",
    "    return pd.concat([total, percent], axis=1, keys=['Total', 'Percent'])\n",
    "\n",
    "# display missing values in descending\n",
    "print(\"Missing values in the dataframe in descending: \\n\", missing_percentage(df).sort_values(by='Total', ascending=False))\n",
    "\n",
    "# visualize where the missing values are located\n",
    "msno.matrix(df, color=(255 / 255, 192 / 255, 203 / 255))\n",
    "pink_patch = mpatches.Patch(color='pink', label='present value')\n",
    "white_patch = mpatches.Patch(color='white', label='absent value')\n",
    "plt.legend(handles=[pink_patch, white_patch])\n",
    "plt.savefig('missing_plot.png')\n",
    "plt.show()"
   ]
  },
  {
   "cell_type": "markdown",
   "metadata": {
    "pycharm": {
     "name": "#%% md\n"
    }
   },
   "source": [
    "### Impute missing values in categorical columns with a default value \n",
    "According to the requirement, for unknown values for these columns: `Title`, `Location`, `Company`, `ContractType`, `ContractTime`, `SourceName`, I fill with `non-specified`"
   ]
  },
  {
   "cell_type": "code",
   "execution_count": 54,
   "metadata": {
    "pycharm": {
     "name": "#%%\n"
    }
   },
   "outputs": [
    {
     "data": {
      "text/plain": "      indexOfdf        Id    ColumnName Original       Modified  \\\n56382     50750  69090081  ContractTime      NaN  non-specified   \n56383     50751  70139229  ContractTime      NaN  non-specified   \n56384     50752  66372417  ContractTime      NaN  non-specified   \n\n           ErrorType                         Fixing  \n56382  Missing Value  Imputed with 'non-specified'.  \n56383  Missing Value  Imputed with 'non-specified'.  \n56384  Missing Value  Imputed with 'non-specified'.  ",
      "text/html": "<div>\n<style scoped>\n    .dataframe tbody tr th:only-of-type {\n        vertical-align: middle;\n    }\n\n    .dataframe tbody tr th {\n        vertical-align: top;\n    }\n\n    .dataframe thead th {\n        text-align: right;\n    }\n</style>\n<table border=\"1\" class=\"dataframe\">\n  <thead>\n    <tr style=\"text-align: right;\">\n      <th></th>\n      <th>indexOfdf</th>\n      <th>Id</th>\n      <th>ColumnName</th>\n      <th>Original</th>\n      <th>Modified</th>\n      <th>ErrorType</th>\n      <th>Fixing</th>\n    </tr>\n  </thead>\n  <tbody>\n    <tr>\n      <th>56382</th>\n      <td>50750</td>\n      <td>69090081</td>\n      <td>ContractTime</td>\n      <td>NaN</td>\n      <td>non-specified</td>\n      <td>Missing Value</td>\n      <td>Imputed with 'non-specified'.</td>\n    </tr>\n    <tr>\n      <th>56383</th>\n      <td>50751</td>\n      <td>70139229</td>\n      <td>ContractTime</td>\n      <td>NaN</td>\n      <td>non-specified</td>\n      <td>Missing Value</td>\n      <td>Imputed with 'non-specified'.</td>\n    </tr>\n    <tr>\n      <th>56384</th>\n      <td>50752</td>\n      <td>66372417</td>\n      <td>ContractTime</td>\n      <td>NaN</td>\n      <td>non-specified</td>\n      <td>Missing Value</td>\n      <td>Imputed with 'non-specified'.</td>\n    </tr>\n  </tbody>\n</table>\n</div>"
     },
     "execution_count": 54,
     "metadata": {},
     "output_type": "execute_result"
    }
   ],
   "source": [
    "# fill the missing value for some columns by 'non-specified'\n",
    "missing_categorical_columns = ['Title', 'Location', 'Company', 'ContractType', 'ContractTime', 'SourceName']\n",
    "\n",
    "# loop through missing categorical columns and impute with 'non-specified' and update error list\n",
    "for col in missing_categorical_columns:\n",
    "    condition = df[col].isnull()\n",
    "    applies_indices = indices[condition]\n",
    "    df[col].fillna('non-specified', inplace=True)\n",
    "    for ind in applies_indices:\n",
    "        update_error_list(ind, df.loc[ind,'Id'], col, 'NaN', df.loc[ind,col],'Missing Value',\"Imputed with 'non-specified'.\")\n",
    "\n",
    "error_list.tail(3)"
   ]
  },
  {
   "cell_type": "markdown",
   "metadata": {
    "tags": [],
    "pycharm": {
     "name": "#%% md\n"
    }
   },
   "source": [
    "### Check duplication\n",
    "\n",
    "+ Since a job position can be posted on different sources, we need to check the duplication in our dataset. Moreover, human error also plays an important factor\n",
    "\n",
    "+ By reading the dataset description, we can assume that the `CloseDate`, `Title`, `Location`, `Company`, `ContractType`, and `ContractTime` can uniquely identify a job position, we can then use these values to check whether or not the dataset contains duplicated records."
   ]
  },
  {
   "cell_type": "code",
   "execution_count": 55,
   "metadata": {
    "pycharm": {
     "name": "#%%\n"
    }
   },
   "outputs": [
    {
     "data": {
      "text/plain": "             Id                                           Title Location  \\\n10905  72549907                      senior java expert  gaming   london   \n11334  69039803        hadoop developer  software house  london   london   \n50535  67784892  planning policy & economic development manager       uk   \n50549  71805379  planning policy & economic development manager       uk   \n\n             Company   ContractType   ContractTime          Category  \\\n10905   aston carter  non-specified      permanent           it jobs   \n11334   aston carter  non-specified      permanent           it jobs   \n50535  non-specified  non-specified  non-specified  engineering jobs   \n50549  non-specified  non-specified  non-specified  engineering jobs   \n\n                 OpenDate           CloseDate                   SourceName  \\\n10905 2012-10-30 12:00:00 2013-01-28 12:00:00                 cwjobs.co.uk   \n11334 2012-11-29 12:00:00 2013-01-28 12:00:00                 cwjobs.co.uk   \n50535 2012-11-28 12:00:00 2013-01-27 12:00:00  jobs.planningresource.co.uk   \n50549 2012-11-28 12:00:00 2013-01-27 12:00:00  jobs.planningresource.co.uk   \n\n        Salary  \n10905  45000.0  \n11334  45000.0  \n50535  31500.0  \n50549  31500.0  ",
      "text/html": "<div>\n<style scoped>\n    .dataframe tbody tr th:only-of-type {\n        vertical-align: middle;\n    }\n\n    .dataframe tbody tr th {\n        vertical-align: top;\n    }\n\n    .dataframe thead th {\n        text-align: right;\n    }\n</style>\n<table border=\"1\" class=\"dataframe\">\n  <thead>\n    <tr style=\"text-align: right;\">\n      <th></th>\n      <th>Id</th>\n      <th>Title</th>\n      <th>Location</th>\n      <th>Company</th>\n      <th>ContractType</th>\n      <th>ContractTime</th>\n      <th>Category</th>\n      <th>OpenDate</th>\n      <th>CloseDate</th>\n      <th>SourceName</th>\n      <th>Salary</th>\n    </tr>\n  </thead>\n  <tbody>\n    <tr>\n      <th>10905</th>\n      <td>72549907</td>\n      <td>senior java expert  gaming</td>\n      <td>london</td>\n      <td>aston carter</td>\n      <td>non-specified</td>\n      <td>permanent</td>\n      <td>it jobs</td>\n      <td>2012-10-30 12:00:00</td>\n      <td>2013-01-28 12:00:00</td>\n      <td>cwjobs.co.uk</td>\n      <td>45000.0</td>\n    </tr>\n    <tr>\n      <th>11334</th>\n      <td>69039803</td>\n      <td>hadoop developer  software house  london</td>\n      <td>london</td>\n      <td>aston carter</td>\n      <td>non-specified</td>\n      <td>permanent</td>\n      <td>it jobs</td>\n      <td>2012-11-29 12:00:00</td>\n      <td>2013-01-28 12:00:00</td>\n      <td>cwjobs.co.uk</td>\n      <td>45000.0</td>\n    </tr>\n    <tr>\n      <th>50535</th>\n      <td>67784892</td>\n      <td>planning policy &amp; economic development manager</td>\n      <td>uk</td>\n      <td>non-specified</td>\n      <td>non-specified</td>\n      <td>non-specified</td>\n      <td>engineering jobs</td>\n      <td>2012-11-28 12:00:00</td>\n      <td>2013-01-27 12:00:00</td>\n      <td>jobs.planningresource.co.uk</td>\n      <td>31500.0</td>\n    </tr>\n    <tr>\n      <th>50549</th>\n      <td>71805379</td>\n      <td>planning policy &amp; economic development manager</td>\n      <td>uk</td>\n      <td>non-specified</td>\n      <td>non-specified</td>\n      <td>non-specified</td>\n      <td>engineering jobs</td>\n      <td>2012-11-28 12:00:00</td>\n      <td>2013-01-27 12:00:00</td>\n      <td>jobs.planningresource.co.uk</td>\n      <td>31500.0</td>\n    </tr>\n  </tbody>\n</table>\n</div>"
     },
     "execution_count": 55,
     "metadata": {},
     "output_type": "execute_result"
    }
   ],
   "source": [
    "condition = df.duplicated(['Location','Company','ContractType','ContractTime','Category','CloseDate','Salary'], keep=False)\n",
    "# see the duplicated rows with the condition above\n",
    "df[condition]"
   ]
  },
  {
   "cell_type": "markdown",
   "metadata": {
    "pycharm": {
     "name": "#%% md\n"
    }
   },
   "source": [
    "### -----> OBSERVATION\n",
    "\n",
    "+ These 2 group data entries are almost the same! Except that the `Id` (uniquely identify the rows of records) values are different. Therefore, let's keep the first one:"
   ]
  },
  {
   "cell_type": "code",
   "execution_count": 56,
   "metadata": {
    "pycharm": {
     "name": "#%%\n"
    }
   },
   "outputs": [
    {
     "data": {
      "text/plain": "      indexOfdf        Id    ColumnName Original       Modified  \\\n56384     50752  66372417  ContractTime      NaN  non-specified   \n56385     50549  71805379           ALL       NA             NA   \n56386      1134  69896000           ALL       NA             NA   \n\n           ErrorType                         Fixing  \n56384  Missing Value  Imputed with 'non-specified'.  \n56385     Duplicates                        Removed  \n56386     Duplicates                        Removed  ",
      "text/html": "<div>\n<style scoped>\n    .dataframe tbody tr th:only-of-type {\n        vertical-align: middle;\n    }\n\n    .dataframe tbody tr th {\n        vertical-align: top;\n    }\n\n    .dataframe thead th {\n        text-align: right;\n    }\n</style>\n<table border=\"1\" class=\"dataframe\">\n  <thead>\n    <tr style=\"text-align: right;\">\n      <th></th>\n      <th>indexOfdf</th>\n      <th>Id</th>\n      <th>ColumnName</th>\n      <th>Original</th>\n      <th>Modified</th>\n      <th>ErrorType</th>\n      <th>Fixing</th>\n    </tr>\n  </thead>\n  <tbody>\n    <tr>\n      <th>56384</th>\n      <td>50752</td>\n      <td>66372417</td>\n      <td>ContractTime</td>\n      <td>NaN</td>\n      <td>non-specified</td>\n      <td>Missing Value</td>\n      <td>Imputed with 'non-specified'.</td>\n    </tr>\n    <tr>\n      <th>56385</th>\n      <td>50549</td>\n      <td>71805379</td>\n      <td>ALL</td>\n      <td>NA</td>\n      <td>NA</td>\n      <td>Duplicates</td>\n      <td>Removed</td>\n    </tr>\n    <tr>\n      <th>56386</th>\n      <td>1134</td>\n      <td>69896000</td>\n      <td>ALL</td>\n      <td>NA</td>\n      <td>NA</td>\n      <td>Duplicates</td>\n      <td>Removed</td>\n    </tr>\n  </tbody>\n</table>\n</div>"
     },
     "execution_count": 56,
     "metadata": {},
     "output_type": "execute_result"
    }
   ],
   "source": [
    "# we will keep the first one and discard the second\n",
    "ind = 50549\n",
    "update_error_list(ind, df.loc[ind,'Id'], 'ALL', 'NA', 'NA', 'Duplicates',\"Removed\") \n",
    "ind = 1134\n",
    "update_error_list(ind, df.loc[ind,'Id'], 'ALL', 'NA', 'NA', 'Duplicates',\"Removed\") \n",
    "error_list.tail(3)"
   ]
  },
  {
   "cell_type": "code",
   "execution_count": 57,
   "metadata": {
    "pycharm": {
     "name": "#%%\n"
    }
   },
   "outputs": [
    {
     "data": {
      "text/plain": "Empty DataFrame\nColumns: [Id, Title, Location, Company, ContractType, ContractTime, Category, OpenDate, CloseDate, SourceName, Salary]\nIndex: []",
      "text/html": "<div>\n<style scoped>\n    .dataframe tbody tr th:only-of-type {\n        vertical-align: middle;\n    }\n\n    .dataframe tbody tr th {\n        vertical-align: top;\n    }\n\n    .dataframe thead th {\n        text-align: right;\n    }\n</style>\n<table border=\"1\" class=\"dataframe\">\n  <thead>\n    <tr style=\"text-align: right;\">\n      <th></th>\n      <th>Id</th>\n      <th>Title</th>\n      <th>Location</th>\n      <th>Company</th>\n      <th>ContractType</th>\n      <th>ContractTime</th>\n      <th>Category</th>\n      <th>OpenDate</th>\n      <th>CloseDate</th>\n      <th>SourceName</th>\n      <th>Salary</th>\n    </tr>\n  </thead>\n  <tbody>\n  </tbody>\n</table>\n</div>"
     },
     "execution_count": 57,
     "metadata": {},
     "output_type": "execute_result"
    }
   ],
   "source": [
    "# drop duplicate and keep the first instance\n",
    "df.drop_duplicates(['Location','Company','ContractType','ContractTime','Category','CloseDate','Salary'], keep='first', inplace=True)\n",
    "\n",
    "# double check!\n",
    "condition = df.duplicated(['Location','Company','ContractType','ContractTime','Category','CloseDate','Salary'], keep=False)\n",
    "df[condition]"
   ]
  },
  {
   "cell_type": "markdown",
   "metadata": {
    "pycharm": {
     "name": "#%% md\n"
    }
   },
   "source": [
    "# Saving data\n",
    "Save the parsed and cleaned data as well as the error list, named as:\n",
    "\n",
    "> dataset1_solution.csv\n",
    "\n",
    "> error_list.csv\n",
    "\n"
   ]
  },
  {
   "cell_type": "code",
   "execution_count": 58,
   "metadata": {
    "pycharm": {
     "name": "#%%\n"
    }
   },
   "outputs": [
    {
     "name": "stdout",
     "output_type": "stream",
     "text": [
      "Saved the error list error_list.csv and the cleaned data dataset1_solution.csv\n",
      " as CSV files successfully!\n",
      "\n",
      "\n"
     ]
    }
   ],
   "source": [
    "# code to save output data\n",
    "\n",
    "# names of the saved files\n",
    "csv_error_list = 'error_list.csv'\n",
    "csv_solution = 'dataset1_solution.csv'\n",
    "\n",
    "# To write the data from data frame into a CSV file, use the to_csv function.\n",
    "df.to_csv(csv_solution, index=False)\n",
    "error_list.to_csv(csv_error_list, index=False)\n",
    "\n",
    "# print out the success message\n",
    "print(f'Saved the error list {csv_error_list} and the cleaned data {csv_solution}\\n as CSV files successfully!\\n\\n')"
   ]
  },
  {
   "cell_type": "markdown",
   "metadata": {
    "pycharm": {
     "name": "#%% md\n"
    }
   },
   "source": [
    "<h3 style=\"color:#ffc0cb;font-size:50px;font-family:Georgia;text-align:center;\"><strong>Summary</strong></h3>\n",
    "\n",
    "+ I learned the tree structure in XML file and how to parse it in Python dataframe properly\n",
    "\n",
    "+ I performed preprocessing Syntactical, Semantic, and Coverage Anomalies in the dataset\n",
    "\n",
    "+ I learned how to programmatically record errors into a file\n",
    "\n",
    "+ I did not use advanced missing value imputation (a linear model) to predict the Salary because the dataset does not contain that many numerical columns (in fact, only Id is numeric beside our target variable). Unfortunately, Id does not act as a meaningful metric to predict Salary. Additionally, categorical columns also are the input of the model, but I need to encode the attribute first (which is beyond the scope of the assignment)"
   ]
  },
  {
   "cell_type": "markdown",
   "metadata": {
    "pycharm": {
     "name": "#%% md\n"
    }
   },
   "source": [
    "<h3 style=\"color:#ffc0cb;font-size:50px;font-family:Georgia;text-align:center;\"><strong>References</strong></h3>\n",
    "\n",
    "+ [Concatenate pandas objects](https://pandas.pydata.org/docs/reference/api/pandas.concat.html)\n",
    "+ [Drop duplications](https://pandas.pydata.org/docs/reference/api/pandas.DataFrame.drop_duplicates.html)\n",
    "+ [Visualize missing values](https://github.com/ResidentMario/missingno)"
   ]
  }
 ],
 "metadata": {
  "kernelspec": {
   "display_name": "Python 3 (ipykernel)",
   "language": "python",
   "name": "python3"
  },
  "language_info": {
   "codemirror_mode": {
    "name": "ipython",
    "version": 3
   },
   "file_extension": ".py",
   "mimetype": "text/x-python",
   "name": "python",
   "nbconvert_exporter": "python",
   "pygments_lexer": "ipython3",
   "version": "3.9.12"
  }
 },
 "nbformat": 4,
 "nbformat_minor": 4
}